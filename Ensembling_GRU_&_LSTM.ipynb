{
  "nbformat": 4,
  "nbformat_minor": 0,
  "metadata": {
    "colab": {
      "name": "Ensembling GRU & LSTM.ipynb",
      "provenance": []
    },
    "kernelspec": {
      "name": "python3",
      "display_name": "Python 3"
    },
    "accelerator": "GPU"
  },
  "cells": [
    {
      "cell_type": "code",
      "metadata": {
        "id": "BXOaXPV6wSWv",
        "colab_type": "code",
        "outputId": "a32c3231-8404-44ae-eb48-bfdfd5325206",
        "colab": {
          "base_uri": "https://localhost:8080/",
          "height": 128
        }
      },
      "source": [
        "# Connect to Google Drive\n",
        "from google.colab import drive\n",
        "drive.mount('/content/drive')"
      ],
      "execution_count": 0,
      "outputs": [
        {
          "output_type": "stream",
          "text": [
            "Go to this URL in a browser: https://accounts.google.com/o/oauth2/auth?client_id=947318989803-6bn6qk8qdgf4n4g3pfee6491hc0brc4i.apps.googleusercontent.com&redirect_uri=urn%3aietf%3awg%3aoauth%3a2.0%3aoob&response_type=code&scope=email%20https%3a%2f%2fwww.googleapis.com%2fauth%2fdocs.test%20https%3a%2f%2fwww.googleapis.com%2fauth%2fdrive%20https%3a%2f%2fwww.googleapis.com%2fauth%2fdrive.photos.readonly%20https%3a%2f%2fwww.googleapis.com%2fauth%2fpeopleapi.readonly\n",
            "\n",
            "Enter your authorization code:\n",
            "··········\n",
            "Mounted at /content/drive\n"
          ],
          "name": "stdout"
        }
      ]
    },
    {
      "cell_type": "code",
      "metadata": {
        "id": "fMjwX1TAwVvQ",
        "colab_type": "code",
        "colab": {}
      },
      "source": [
        "# Direct to the correct directory\n",
        "import os\n",
        "os.chdir(\"drive/My Drive/SEPSIS\")"
      ],
      "execution_count": 0,
      "outputs": []
    },
    {
      "cell_type": "code",
      "metadata": {
        "id": "nQgiiyM4wVxx",
        "colab_type": "code",
        "outputId": "677ea06a-3604-4020-831d-b944bf6187f1",
        "colab": {
          "base_uri": "https://localhost:8080/",
          "height": 217
        }
      },
      "source": [
        "# Check the files\n",
        "!ls"
      ],
      "execution_count": 0,
      "outputs": [
        {
          "output_type": "stream",
          "text": [
            " 10\t\t    '#6_GRU_Model.h5'\t      padded_X.txt\n",
            "'#1_GRU_Model.h5'   '#6_LSTM_Model.h5'\t      padded_Y.txt\n",
            "'#1_LSTM_Model.h5'   dataB1.txt\t\t      __pycache__\n",
            "'#2_GRU_Model.h5'    dataB.txt\t\t      training\n",
            "'#2_LSTM_Model.h5'   data.txt\t\t      trainingdataX.txt\n",
            "'#3_GRU_Model.h5'    labelsB1.txt\t      trainingdataY.txt\n",
            "'#3_LSTM_Model.h5'   labelsB.txt\t      training_setB\n",
            "'#4_GRU_Model.h5'    labels.txt\t\t      X_test.txt\n",
            "'#4_LSTM_Model.h5'   makegraphs.psv\t      X_train.txt\n",
            "'#5_GRU_Model.h5'    maketableandgraphs.psv   y_test.txt\n",
            "'#5_LSTM_Model.h5'   other\t\t      y_train.txt\n"
          ],
          "name": "stdout"
        }
      ]
    },
    {
      "cell_type": "code",
      "metadata": {
        "id": "J0jqp8ZVwV0O",
        "colab_type": "code",
        "outputId": "84cd1e42-8b90-4b9b-8d9e-0bc4a437f40d",
        "colab": {
          "base_uri": "https://localhost:8080/",
          "height": 255
        }
      },
      "source": [
        "# Load all the weights of the models\n",
        "\n",
        "from tensorflow.keras.models import load_model\n",
        "\n",
        "model1 = load_model('#1_GRU_Model.h5', compile=False)\n",
        "model2 = load_model('#2_GRU_Model.h5', compile=False)\n",
        "model3 = load_model('#5_GRU_Model.h5', compile=False)\n",
        "model4 = load_model('#1_LSTM_Model.h5', compile=False)\n",
        "model5 = load_model('#3_LSTM_Model.h5', compile=False)\n",
        "model6 = load_model('#4_LSTM_Model.h5', compile=False)\n"
      ],
      "execution_count": 0,
      "outputs": [
        {
          "output_type": "stream",
          "text": [
            "WARNING:tensorflow:Layer gru_8 will not use cuDNN kernel since it doesn't meet the cuDNN kernel criteria. It will use generic GPU kernel as fallback when running on GPU\n",
            "WARNING:tensorflow:Layer gru_9 will not use cuDNN kernel since it doesn't meet the cuDNN kernel criteria. It will use generic GPU kernel as fallback when running on GPU\n",
            "WARNING:tensorflow:Layer gru will not use cuDNN kernel since it doesn't meet the cuDNN kernel criteria. It will use generic GPU kernel as fallback when running on GPU\n",
            "WARNING:tensorflow:Layer gru_1 will not use cuDNN kernel since it doesn't meet the cuDNN kernel criteria. It will use generic GPU kernel as fallback when running on GPU\n",
            "WARNING:tensorflow:Layer gru will not use cuDNN kernel since it doesn't meet the cuDNN kernel criteria. It will use generic GPU kernel as fallback when running on GPU\n",
            "WARNING:tensorflow:Layer gru_1 will not use cuDNN kernel since it doesn't meet the cuDNN kernel criteria. It will use generic GPU kernel as fallback when running on GPU\n",
            "WARNING:tensorflow:Layer lstm will not use cuDNN kernel since it doesn't meet the cuDNN kernel criteria. It will use generic GPU kernel as fallback when running on GPU\n",
            "WARNING:tensorflow:Layer lstm_1 will not use cuDNN kernel since it doesn't meet the cuDNN kernel criteria. It will use generic GPU kernel as fallback when running on GPU\n",
            "WARNING:tensorflow:Layer lstm will not use cuDNN kernel since it doesn't meet the cuDNN kernel criteria. It will use generic GPU kernel as fallback when running on GPU\n",
            "WARNING:tensorflow:Layer lstm_1 will not use cuDNN kernel since it doesn't meet the cuDNN kernel criteria. It will use generic GPU kernel as fallback when running on GPU\n",
            "WARNING:tensorflow:Layer lstm_2 will not use cuDNN kernel since it doesn't meet the cuDNN kernel criteria. It will use generic GPU kernel as fallback when running on GPU\n",
            "WARNING:tensorflow:Layer lstm_3 will not use cuDNN kernel since it doesn't meet the cuDNN kernel criteria. It will use generic GPU kernel as fallback when running on GPU\n"
          ],
          "name": "stdout"
        }
      ]
    },
    {
      "cell_type": "code",
      "metadata": {
        "id": "dZaQRz0hFhSv",
        "colab_type": "code",
        "outputId": "ffe1ba61-5a59-4d61-b567-4fe395cdcef0",
        "colab": {
          "base_uri": "https://localhost:8080/",
          "height": 54
        }
      },
      "source": [
        "# Load the test set\n",
        "\n",
        "import pickle\n",
        "\n",
        "with open(\"X_test.txt\", \"rb\") as fp:   # Unpickling\n",
        "  X_test = pickle.load(fp)\n",
        "\n",
        "with open(\"y_test.txt\", \"rb\") as fp:   # Unpickling\n",
        "  y_test = pickle.load(fp)\n",
        "\n",
        "print(len(X_test))\n",
        "print(len(y_test))"
      ],
      "execution_count": 0,
      "outputs": [
        {
          "output_type": "stream",
          "text": [
            "1107\n",
            "1107\n"
          ],
          "name": "stdout"
        }
      ]
    },
    {
      "cell_type": "code",
      "metadata": {
        "id": "e-0GwOgAyfMZ",
        "colab_type": "code",
        "colab": {}
      },
      "source": [
        "# Save the prediction probabilities for each model\n",
        "\n",
        "import numpy as np\n",
        "from sklearn.metrics import confusion_matrix\n",
        "from sklearn.metrics import classification_report\n",
        "\n",
        "pred1=model1.predict(X_test)\n",
        "pred2=model2.predict(X_test)\n",
        "pred3=model3.predict(X_test)\n",
        "pred4=model4.predict(X_test)\n",
        "pred5=model5.predict(X_test)\n",
        "pred6=model6.predict(X_test)"
      ],
      "execution_count": 0,
      "outputs": []
    },
    {
      "cell_type": "code",
      "metadata": {
        "id": "YPpp6pBbwV4o",
        "colab_type": "code",
        "colab": {}
      },
      "source": [
        "# Transform the labels so that they have same shape\n",
        "\n",
        "y = y_test\n",
        "y1 = y.transpose(2,0,1).reshape(-1,2)\n",
        "y = np.argmax(y1, axis=1) "
      ],
      "execution_count": 0,
      "outputs": []
    },
    {
      "cell_type": "code",
      "metadata": {
        "id": "CLA_QIOmHSpV",
        "colab_type": "code",
        "outputId": "13dec309-3d7a-48d0-fbf4-904e4127650a",
        "colab": {
          "base_uri": "https://localhost:8080/",
          "height": 217
        }
      },
      "source": [
        "# Metrics for ensemble of GRU and LSTM models\n",
        "# Generate the confusion matrix and classification report by first averaging the prediction probabilities\n",
        "# Then convert the matrix in the right shape just as the labels\n",
        "\n",
        "finalpred=(pred1 + pred2 + pred3 + pred4 + pred5 + pred6) / 6\n",
        "\n",
        "finalpred1 = finalpred.transpose(2,0,1).reshape(-1,2)\n",
        "finalpred=np.argmax(finalpred1, axis=1) \n",
        "\n",
        "print(confusion_matrix(y, finalpred))\n",
        "print(classification_report(y, finalpred, digits=4))"
      ],
      "execution_count": 0,
      "outputs": [
        {
          "output_type": "stream",
          "text": [
            "[[350349  21404]\n",
            " [   146     53]]\n",
            "              precision    recall  f1-score   support\n",
            "\n",
            "           0     0.9996    0.9424    0.9702    371753\n",
            "           1     0.0025    0.2663    0.0049       199\n",
            "\n",
            "    accuracy                         0.9421    371952\n",
            "   macro avg     0.5010    0.6044    0.4875    371952\n",
            "weighted avg     0.9990    0.9421    0.9696    371952\n",
            "\n"
          ],
          "name": "stdout"
        }
      ]
    },
    {
      "cell_type": "code",
      "metadata": {
        "id": "0Ki19SIaGZJ2",
        "colab_type": "code",
        "outputId": "17dc5924-28e0-4658-a34d-ef01cccdbfc1",
        "colab": {
          "base_uri": "https://localhost:8080/",
          "height": 217
        }
      },
      "source": [
        "# Metrics for model #1\n",
        "# Generate the confusion matrix and classification report by converting the matrix in the right shape just as the labels\n",
        "\n",
        "pred1 = pred1.transpose(2,0,1).reshape(-1,2)\n",
        "pred1=np.argmax(pred1, axis=1) \n",
        "\n",
        "print(confusion_matrix(y, pred1))\n",
        "print(classification_report(y, pred1, digits=4))"
      ],
      "execution_count": 0,
      "outputs": [
        {
          "output_type": "stream",
          "text": [
            "[[350356  21397]\n",
            " [   139     60]]\n",
            "              precision    recall  f1-score   support\n",
            "\n",
            "           0     0.9996    0.9424    0.9702    371753\n",
            "           1     0.0028    0.3015    0.0055       199\n",
            "\n",
            "    accuracy                         0.9421    371952\n",
            "   macro avg     0.5012    0.6220    0.4879    371952\n",
            "weighted avg     0.9991    0.9421    0.9697    371952\n",
            "\n"
          ],
          "name": "stdout"
        }
      ]
    },
    {
      "cell_type": "code",
      "metadata": {
        "id": "4KiFgG55GZNG",
        "colab_type": "code",
        "outputId": "1b01a694-204d-4b69-91b1-033ef2f9903c",
        "colab": {
          "base_uri": "https://localhost:8080/",
          "height": 217
        }
      },
      "source": [
        "# Metrics for model #2\n",
        "# Generate the confusion matrix and classification report by converting the matrix in the right shape just as the labels\n",
        "\n",
        "pred2 = pred2.transpose(2,0,1).reshape(-1,2)\n",
        "pred2=np.argmax(pred2, axis=1) \n",
        "\n",
        "print(confusion_matrix(y, pred2))\n",
        "print(classification_report(y, pred2, digits=4))"
      ],
      "execution_count": 0,
      "outputs": [
        {
          "output_type": "stream",
          "text": [
            "[[350345  21408]\n",
            " [   150     49]]\n",
            "              precision    recall  f1-score   support\n",
            "\n",
            "           0     0.9996    0.9424    0.9702    371753\n",
            "           1     0.0023    0.2462    0.0045       199\n",
            "\n",
            "    accuracy                         0.9420    371952\n",
            "   macro avg     0.5009    0.5943    0.4873    371952\n",
            "weighted avg     0.9990    0.9420    0.9696    371952\n",
            "\n"
          ],
          "name": "stdout"
        }
      ]
    },
    {
      "cell_type": "code",
      "metadata": {
        "id": "gjlYF1h7GZPr",
        "colab_type": "code",
        "outputId": "a19de692-e551-4a3c-ea42-7b6c8e01bde5",
        "colab": {
          "base_uri": "https://localhost:8080/",
          "height": 217
        }
      },
      "source": [
        "# Metrics for model #3\n",
        "# Generate the confusion matrix and classification report by converting the matrix in the right shape just as the labels\n",
        "\n",
        "pred3 = pred3.transpose(2,0,1).reshape(-1,2)\n",
        "pred3=np.argmax(pred3, axis=1) \n",
        "\n",
        "print(confusion_matrix(y, pred3))\n",
        "print(classification_report(y,pred3, digits=4))"
      ],
      "execution_count": 0,
      "outputs": [
        {
          "output_type": "stream",
          "text": [
            "[[350350  21403]\n",
            " [   145     54]]\n",
            "              precision    recall  f1-score   support\n",
            "\n",
            "           0     0.9996    0.9424    0.9702    371753\n",
            "           1     0.0025    0.2714    0.0050       199\n",
            "\n",
            "    accuracy                         0.9421    371952\n",
            "   macro avg     0.5011    0.6069    0.4876    371952\n",
            "weighted avg     0.9991    0.9421    0.9696    371952\n",
            "\n"
          ],
          "name": "stdout"
        }
      ]
    },
    {
      "cell_type": "code",
      "metadata": {
        "id": "kRkn7Ql6GZSE",
        "colab_type": "code",
        "outputId": "10f22790-b6af-4364-ad55-ccc49706426b",
        "colab": {
          "base_uri": "https://localhost:8080/",
          "height": 217
        }
      },
      "source": [
        "# Metrics for model #4\n",
        "# Generate the confusion matrix and classification report by converting the matrix in the right shape just as the labels\n",
        "\n",
        "pred4 = pred4.transpose(2,0,1).reshape(-1,2)\n",
        "pred4=np.argmax(pred4, axis=1) \n",
        "\n",
        "print(confusion_matrix(y, pred4))\n",
        "print(classification_report(y, pred4, digits=4))"
      ],
      "execution_count": 0,
      "outputs": [
        {
          "output_type": "stream",
          "text": [
            "[[350350  21403]\n",
            " [   145     54]]\n",
            "              precision    recall  f1-score   support\n",
            "\n",
            "           0     0.9996    0.9424    0.9702    371753\n",
            "           1     0.0025    0.2714    0.0050       199\n",
            "\n",
            "    accuracy                         0.9421    371952\n",
            "   macro avg     0.5011    0.6069    0.4876    371952\n",
            "weighted avg     0.9991    0.9421    0.9696    371952\n",
            "\n"
          ],
          "name": "stdout"
        }
      ]
    },
    {
      "cell_type": "code",
      "metadata": {
        "id": "IKHxwdS1GZUr",
        "colab_type": "code",
        "outputId": "89b5b57b-ddb2-496c-e1e4-50e518f02f09",
        "colab": {
          "base_uri": "https://localhost:8080/",
          "height": 217
        }
      },
      "source": [
        "# Metrics for model #5\n",
        "# Generate the confusion matrix and classification report by converting the matrix in the right shape just as the labels\n",
        "\n",
        "pred5 = pred5.transpose(2,0,1).reshape(-1,2)\n",
        "pred5=np.argmax(pred5, axis=1) \n",
        "\n",
        "print(confusion_matrix(y, pred5))\n",
        "print(classification_report(y, pred5, digits=5))"
      ],
      "execution_count": 0,
      "outputs": [
        {
          "output_type": "stream",
          "text": [
            "[[350350  21403]\n",
            " [   145     54]]\n",
            "              precision    recall  f1-score   support\n",
            "\n",
            "           0     0.9996    0.9424    0.9702    371753\n",
            "           1     0.0025    0.2714    0.0050       199\n",
            "\n",
            "    accuracy                         0.9421    371952\n",
            "   macro avg     0.5011    0.6069    0.4876    371952\n",
            "weighted avg     0.9991    0.9421    0.9696    371952\n",
            "\n"
          ],
          "name": "stdout"
        }
      ]
    },
    {
      "cell_type": "code",
      "metadata": {
        "id": "CwIP3-gyGZXA",
        "colab_type": "code",
        "outputId": "aa529410-ebf1-4650-f2fc-68d184f6c9ee",
        "colab": {
          "base_uri": "https://localhost:8080/",
          "height": 217
        }
      },
      "source": [
        "# Metrics for model #6\n",
        "# Generate the confusion matrix and classification report by converting the matrix in the right shape just as the labels\n",
        "\n",
        "pred6 = pred6.transpose(2,0,1).reshape(-1,2)\n",
        "pred6=np.argmax(pred6, axis=1) \n",
        "\n",
        "print(confusion_matrix(y, pred6))\n",
        "print(classification_report(y, pred6, digits=4))"
      ],
      "execution_count": 0,
      "outputs": [
        {
          "output_type": "stream",
          "text": [
            "[[350350  21403]\n",
            " [   145     54]]\n",
            "              precision    recall  f1-score   support\n",
            "\n",
            "           0     0.9996    0.9424    0.9702    371753\n",
            "           1     0.0025    0.2714    0.0050       199\n",
            "\n",
            "    accuracy                         0.9421    371952\n",
            "   macro avg     0.5011    0.6069    0.4876    371952\n",
            "weighted avg     0.9991    0.9421    0.9696    371952\n",
            "\n"
          ],
          "name": "stdout"
        }
      ]
    }
  ]
}