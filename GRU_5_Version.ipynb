{
  "nbformat": 4,
  "nbformat_minor": 0,
  "metadata": {
    "colab": {
      "name": "GRU#5_Version.ipynb",
      "provenance": [],
      "collapsed_sections": []
    },
    "kernelspec": {
      "name": "python3",
      "display_name": "Python 3"
    },
    "accelerator": "GPU"
  },
  "cells": [
    {
      "cell_type": "code",
      "metadata": {
        "id": "jIUmkRa4rz7v",
        "colab_type": "code",
        "outputId": "102c447f-4133-473b-d9a2-94b47e61dec3",
        "colab": {
          "base_uri": "https://localhost:8080/",
          "height": 122
        }
      },
      "source": [
        "# Connect to Google Drive\n",
        "from google.colab import drive\n",
        "drive.mount('/content/drive')"
      ],
      "execution_count": 0,
      "outputs": [
        {
          "output_type": "stream",
          "text": [
            "Go to this URL in a browser: https://accounts.google.com/o/oauth2/auth?client_id=947318989803-6bn6qk8qdgf4n4g3pfee6491hc0brc4i.apps.googleusercontent.com&redirect_uri=urn%3aietf%3awg%3aoauth%3a2.0%3aoob&response_type=code&scope=email%20https%3a%2f%2fwww.googleapis.com%2fauth%2fdocs.test%20https%3a%2f%2fwww.googleapis.com%2fauth%2fdrive%20https%3a%2f%2fwww.googleapis.com%2fauth%2fdrive.photos.readonly%20https%3a%2f%2fwww.googleapis.com%2fauth%2fpeopleapi.readonly\n",
            "\n",
            "Enter your authorization code:\n",
            "··········\n",
            "Mounted at /content/drive\n"
          ],
          "name": "stdout"
        }
      ]
    },
    {
      "cell_type": "code",
      "metadata": {
        "id": "ETRmPbv0r5go",
        "colab_type": "code",
        "colab": {}
      },
      "source": [
        "# Direct to the correct directory\n",
        "import os\n",
        "os.chdir(\"drive/My Drive/SEPSIS\")"
      ],
      "execution_count": 0,
      "outputs": []
    },
    {
      "cell_type": "code",
      "metadata": {
        "id": "J7oSpU3er5jj",
        "colab_type": "code",
        "outputId": "17e45b24-2836-4ea8-fb63-d5737fb8117b",
        "colab": {
          "base_uri": "https://localhost:8080/",
          "height": 136
        }
      },
      "source": [
        "# Check the files\n",
        "!ls"
      ],
      "execution_count": 0,
      "outputs": [
        {
          "output_type": "stream",
          "text": [
            " 10\t\t    '#4_LSTM_Model.h5'\t other\t\t     training_setB\n",
            "'#1_GRU_Model.h5'    dataB1.txt\t\t padded_X.txt\t     X_test.txt\n",
            "'#1_LSTM_Model.h5'   dataB.txt\t\t padded_Y.txt\t     X_train.txt\n",
            "'#2_GRU_Model.h5'    data.txt\t\t __pycache__\t     y_test.txt\n",
            "'#2_LSTM_Model.h5'   labelsB1.txt\t training\t     y_train.txt\n",
            "'#3_GRU_Model.h5'    labelsB.txt\t trainingdataX.txt\n",
            "'#3_LSTM_Model.h5'   labels.txt\t\t trainingdataY.txt\n"
          ],
          "name": "stdout"
        }
      ]
    },
    {
      "cell_type": "code",
      "metadata": {
        "id": "tHRBJgfDLViL",
        "colab_type": "code",
        "outputId": "1ddd5277-a78f-4555-d854-0c264adf81e1",
        "colab": {
          "base_uri": "https://localhost:8080/",
          "height": 34
        }
      },
      "source": [
        "# Import the necessary modules\n",
        "import tensorflow as tf\n",
        "import keras"
      ],
      "execution_count": 0,
      "outputs": [
        {
          "output_type": "stream",
          "text": [
            "Using TensorFlow backend.\n"
          ],
          "name": "stderr"
        }
      ]
    },
    {
      "cell_type": "code",
      "metadata": {
        "id": "ro5ENIiLuNZD",
        "colab_type": "code",
        "colab": {}
      },
      "source": [
        "# Load the dataset including the labels\n",
        "import pickle\n",
        "\n",
        "with open(\"X_train.txt\", \"rb\") as fp:   # Unpickling\n",
        "  X = pickle.load(fp)\n",
        "\n",
        "with open(\"y_train.txt\", \"rb\") as fp:   # Unpickling\n",
        "  y = pickle.load(fp)"
      ],
      "execution_count": 0,
      "outputs": []
    },
    {
      "cell_type": "code",
      "metadata": {
        "id": "BAKaF6XtuT7z",
        "colab_type": "code",
        "colab": {}
      },
      "source": [
        "# Split the x and Y sets into train and test splits\n",
        "\n",
        "from sklearn.model_selection import train_test_split\n",
        "X_train, X_test, y_train, y_test = train_test_split(X, y, test_size=0.1111111)"
      ],
      "execution_count": 0,
      "outputs": []
    },
    {
      "cell_type": "code",
      "metadata": {
        "id": "TXA_Ts7_uXwq",
        "colab_type": "code",
        "outputId": "8ed09517-b8d3-479b-cbc0-e93037b06b96",
        "colab": {
          "base_uri": "https://localhost:8080/",
          "height": 85
        }
      },
      "source": [
        "# Check sizes for train and test\n",
        "\n",
        "print(len(X_train))\n",
        "print(len(y_train))\n",
        "\n",
        "print(len(X_test))\n",
        "print(len(y_test))"
      ],
      "execution_count": 0,
      "outputs": [
        {
          "output_type": "stream",
          "text": [
            "8849\n",
            "8849\n",
            "1107\n",
            "1107\n"
          ],
          "name": "stdout"
        }
      ]
    },
    {
      "cell_type": "code",
      "metadata": {
        "id": "yxlNQxHYGxJJ",
        "colab_type": "code",
        "colab": {}
      },
      "source": [
        "# Import packages\n",
        "# Adapt the original Cross Entropy Loss function by adding weights to \"no sepsis\" label\n",
        "import numpy as np \n",
        "import math\n",
        "\n",
        "def keras_custom_loss_function(y_true, y_pred):\n",
        "  custom_loss = -y_true*tf.math.log(y_pred) - (1-y_true)*tf.math.log(1-y_pred) * 0.7\n",
        "  return custom_loss"
      ],
      "execution_count": 0,
      "outputs": []
    },
    {
      "cell_type": "code",
      "metadata": {
        "id": "byPMHoi77jzl",
        "colab_type": "code",
        "colab": {}
      },
      "source": [
        "# Create the architecture of the model including all the parameters\n",
        "# Set the optimizer, loss function and metric\n",
        "def get_compiled_model():\n",
        "  model = tf.keras.Sequential([\n",
        "    tf.keras.layers.Masking(mask_value=0.0, input_shape=(336,40)),\n",
        "    tf.keras.layers.BatchNormalization(),\n",
        "    tf.keras.layers.GRU(400, dropout=0.2, recurrent_dropout=0.5, return_sequences=True),\n",
        "    tf.keras.layers.BatchNormalization(),\n",
        "    tf.keras.layers.GRU(400, dropout=0.2, recurrent_dropout=0.5, return_sequences=True),   \n",
        "    tf.keras.layers.BatchNormalization(),     \n",
        "    tf.keras.layers.Dense(250, activation='relu'),\n",
        "    tf.keras.layers.BatchNormalization(),      \n",
        "    tf.keras.layers.Dense(150, activation='relu'),\n",
        "    tf.keras.layers.BatchNormalization(),      \n",
        "    tf.keras.layers.Dense(100, activation='relu'),\n",
        "    tf.keras.layers.BatchNormalization(),      \n",
        "    tf.keras.layers.Dense(50, activation='relu'),\n",
        "    tf.keras.layers.BatchNormalization(),      \n",
        "    tf.keras.layers.Dense(2, activation='softmax'),   \n",
        "  ])\n",
        "\n",
        "  opt = tf.keras.optimizers.RMSprop(learning_rate=0.0001)\n",
        "\n",
        "\n",
        "  model.compile(optimizer=opt,\n",
        "                loss=keras_custom_loss_function,\n",
        "                metrics=[tf.keras.metrics.AUC()])\n",
        "  return model"
      ],
      "execution_count": 0,
      "outputs": []
    },
    {
      "cell_type": "code",
      "metadata": {
        "id": "yWB1oJ4E7wCn",
        "colab_type": "code",
        "outputId": "e5a4645e-e8ab-46fd-9c93-ea123f802df4",
        "colab": {
          "base_uri": "https://localhost:8080/",
          "height": 745
        }
      },
      "source": [
        "# Compile the model and get a summary of it\n",
        "model = get_compiled_model()\n",
        "model.summary()"
      ],
      "execution_count": 0,
      "outputs": [
        {
          "output_type": "stream",
          "text": [
            "WARNING:tensorflow:Layer gru will not use cuDNN kernel since it doesn't meet the cuDNN kernel criteria. It will use generic GPU kernel as fallback when running on GPU\n",
            "WARNING:tensorflow:Layer gru_1 will not use cuDNN kernel since it doesn't meet the cuDNN kernel criteria. It will use generic GPU kernel as fallback when running on GPU\n",
            "Model: \"sequential\"\n",
            "_________________________________________________________________\n",
            "Layer (type)                 Output Shape              Param #   \n",
            "=================================================================\n",
            "masking (Masking)            (None, 336, 40)           0         \n",
            "_________________________________________________________________\n",
            "batch_normalization (BatchNo (None, 336, 40)           160       \n",
            "_________________________________________________________________\n",
            "gru (GRU)                    (None, 336, 400)          530400    \n",
            "_________________________________________________________________\n",
            "batch_normalization_1 (Batch (None, 336, 400)          1600      \n",
            "_________________________________________________________________\n",
            "gru_1 (GRU)                  (None, 336, 400)          962400    \n",
            "_________________________________________________________________\n",
            "batch_normalization_2 (Batch (None, 336, 400)          1600      \n",
            "_________________________________________________________________\n",
            "dense (Dense)                (None, 336, 250)          100250    \n",
            "_________________________________________________________________\n",
            "batch_normalization_3 (Batch (None, 336, 250)          1000      \n",
            "_________________________________________________________________\n",
            "dense_1 (Dense)              (None, 336, 150)          37650     \n",
            "_________________________________________________________________\n",
            "batch_normalization_4 (Batch (None, 336, 150)          600       \n",
            "_________________________________________________________________\n",
            "dense_2 (Dense)              (None, 336, 100)          15100     \n",
            "_________________________________________________________________\n",
            "batch_normalization_5 (Batch (None, 336, 100)          400       \n",
            "_________________________________________________________________\n",
            "dense_3 (Dense)              (None, 336, 50)           5050      \n",
            "_________________________________________________________________\n",
            "batch_normalization_6 (Batch (None, 336, 50)           200       \n",
            "_________________________________________________________________\n",
            "dense_4 (Dense)              (None, 336, 2)            102       \n",
            "=================================================================\n",
            "Total params: 1,656,512\n",
            "Trainable params: 1,653,732\n",
            "Non-trainable params: 2,780\n",
            "_________________________________________________________________\n"
          ],
          "name": "stdout"
        }
      ]
    },
    {
      "cell_type": "code",
      "metadata": {
        "id": "qwBygJSpBaMf",
        "colab_type": "code",
        "outputId": "35ad62d1-d338-4d6b-f30f-ead1f3dc9a0b",
        "colab": {
          "base_uri": "https://localhost:8080/",
          "height": 381
        }
      },
      "source": [
        "# Train the model for 10 epochs with a batchsize of 64\n",
        "original = model.fit(X_train,y_train, validation_data=(X_test, y_test), batch_size=64, epochs=10)"
      ],
      "execution_count": 0,
      "outputs": [
        {
          "output_type": "stream",
          "text": [
            "Epoch 1/10\n",
            "139/139 [==============================] - 344s 2s/step - loss: 0.0587 - auc: 0.5453 - val_loss: 0.0581 - val_auc: 0.5352\n",
            "Epoch 2/10\n",
            "139/139 [==============================] - 312s 2s/step - loss: 0.0450 - auc: 0.6160 - val_loss: 0.0501 - val_auc: 0.4992\n",
            "Epoch 3/10\n",
            "139/139 [==============================] - 317s 2s/step - loss: 0.0389 - auc: 0.6748 - val_loss: 0.0427 - val_auc: 0.5768\n",
            "Epoch 4/10\n",
            "139/139 [==============================] - 316s 2s/step - loss: 0.0344 - auc: 0.7435 - val_loss: 0.0314 - val_auc: 0.7610\n",
            "Epoch 5/10\n",
            "139/139 [==============================] - 319s 2s/step - loss: 0.0306 - auc: 0.8158 - val_loss: 0.0248 - val_auc: 0.8982\n",
            "Epoch 6/10\n",
            "139/139 [==============================] - 322s 2s/step - loss: 0.0268 - auc: 0.8866 - val_loss: 0.0233 - val_auc: 0.9136\n",
            "Epoch 7/10\n",
            "139/139 [==============================] - 318s 2s/step - loss: 0.0239 - auc: 0.9432 - val_loss: 0.0200 - val_auc: 0.9869\n",
            "Epoch 8/10\n",
            "139/139 [==============================] - 322s 2s/step - loss: 0.0215 - auc: 0.9786 - val_loss: 0.0177 - val_auc: 0.9928\n",
            "Epoch 9/10\n",
            "139/139 [==============================] - 330s 2s/step - loss: 0.0194 - auc: 0.9914 - val_loss: 0.0159 - val_auc: 0.9959\n",
            "Epoch 10/10\n",
            "139/139 [==============================] - 319s 2s/step - loss: 0.0176 - auc: 0.9947 - val_loss: 0.0152 - val_auc: 0.9963\n"
          ],
          "name": "stdout"
        }
      ]
    },
    {
      "cell_type": "code",
      "metadata": {
        "id": "EP1I_akFu4Gr",
        "colab_type": "code",
        "outputId": "73d657c1-3cee-4c73-e001-f8da69e1de53",
        "colab": {
          "base_uri": "https://localhost:8080/",
          "height": 35
        }
      },
      "source": [
        "# Print necessary dictionary keys\n",
        "history_dict = original.history\n",
        "history_dict.keys()"
      ],
      "execution_count": 0,
      "outputs": [
        {
          "output_type": "execute_result",
          "data": {
            "text/plain": [
              "dict_keys(['loss', 'auc', 'val_loss', 'val_auc'])"
            ]
          },
          "metadata": {
            "tags": []
          },
          "execution_count": 12
        }
      ]
    },
    {
      "cell_type": "code",
      "metadata": {
        "id": "rE4GK8WHBe5w",
        "colab_type": "code",
        "colab": {}
      },
      "source": [
        "# Make a function for plotting the AUC score and loss for train and validation set\n",
        "import matplotlib.pyplot as plt\n",
        "%matplotlib inline\n",
        "def plot_history(data_list, label_list, title, ylabel):\n",
        "    ''' Plots a list of vectors.\n",
        "\n",
        "    Parameters:\n",
        "        data_list  : list of vectors containing the values to plot\n",
        "        label_list : list of labels describing the data, one per vector\n",
        "        title      : title of the plot\n",
        "        ylabel     : label for the y axis\n",
        "    '''\n",
        "    epochs = range(1, len(data_list[0]) + 1)\n",
        "\n",
        "    for data, label in zip(data_list, label_list):\n",
        "        plt.plot(epochs, data, label=label)\n",
        "    plt.title(title)\n",
        "    plt.xlabel('Epochs')\n",
        "    plt.ylabel(ylabel)\n",
        "    plt.legend()\n",
        "\n",
        "    plt.show()"
      ],
      "execution_count": 0,
      "outputs": []
    },
    {
      "cell_type": "code",
      "metadata": {
        "id": "PhZ1jADUBgIf",
        "colab_type": "code",
        "outputId": "639214e6-993c-435e-8cf9-18e03f5eefb3",
        "colab": {
          "base_uri": "https://localhost:8080/",
          "height": 573
        }
      },
      "source": [
        "# Plot AUC score and loss for train and validation set\n",
        "auc = history_dict['auc']\n",
        "val_auc = history_dict['val_auc']\n",
        "loss = history_dict['loss']\n",
        "val_loss = history_dict['val_loss']\n",
        "\n",
        "plot_history(data_list=[loss, val_loss],\n",
        "             label_list=['Training loss', 'Validation loss'],\n",
        "             title='Training and validation loss',\n",
        "             ylabel='Loss')\n",
        "plot_history(data_list=[auc, val_auc],\n",
        "             label_list=['Training AUC.', 'Validation AUC.'],\n",
        "             title='Training and validation AUC',\n",
        "             ylabel='AUC')"
      ],
      "execution_count": 0,
      "outputs": [
        {
          "output_type": "display_data",
          "data": {
            "image/png": "[encoded data removed]",
            "text/plain": [
              "<Figure size 432x288 with 1 Axes>"
            ]
          },
          "metadata": {
            "tags": [],
            "needs_background": "light"
          }
        },
        {
          "output_type": "display_data",
          "data": {
            "image/png": "[encoded data removed]",
            "text/plain": [
              "<Figure size 432x288 with 1 Axes>"
            ]
          },
          "metadata": {
            "tags": [],
            "needs_background": "light"
          }
        }
      ]
    },
    {
      "cell_type": "code",
      "metadata": {
        "id": "4s_hRIaumY08",
        "colab_type": "code",
        "outputId": "08db05fd-2fca-4e67-8044-388a8ce5af6a",
        "colab": {
          "base_uri": "https://localhost:8080/",
          "height": 35
        }
      },
      "source": [
        "# Save the weights of the model\n",
        "from numpy import loadtxt\n",
        "\n",
        "# serialize weights to HDF5\n",
        "model.save(\"#5_GRU_Model.h5\")\n",
        "print(\"Saved model to disk\")"
      ],
      "execution_count": 0,
      "outputs": [
        {
          "output_type": "stream",
          "text": [
            "Saved model to disk\n"
          ],
          "name": "stdout"
        }
      ]
    }
  ]
}