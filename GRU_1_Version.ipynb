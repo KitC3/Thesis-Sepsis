{
  "nbformat": 4,
  "nbformat_minor": 0,
  "metadata": {
    "colab": {
      "name": "GRU#1_Version.ipynb",
      "provenance": [],
      "collapsed_sections": []
    },
    "kernelspec": {
      "name": "python3",
      "display_name": "Python 3"
    },
    "accelerator": "GPU"
  },
  "cells": [
    {
      "cell_type": "code",
      "metadata": {
        "id": "jIUmkRa4rz7v",
        "colab_type": "code",
        "outputId": "9cc90ebf-d200-4728-edfd-06a06cebe5c2",
        "colab": {
          "base_uri": "https://localhost:8080/",
          "height": 122
        }
      },
      "source": [
        "# Connect to Google Drive\n",
        "from google.colab import drive\n",
        "drive.mount('/content/drive')"
      ],
      "execution_count": 0,
      "outputs": [
        {
          "output_type": "stream",
          "text": [
            "Go to this URL in a browser: https://accounts.google.com/o/oauth2/auth?client_id=947318989803-6bn6qk8qdgf4n4g3pfee6491hc0brc4i.apps.googleusercontent.com&redirect_uri=urn%3aietf%3awg%3aoauth%3a2.0%3aoob&response_type=code&scope=email%20https%3a%2f%2fwww.googleapis.com%2fauth%2fdocs.test%20https%3a%2f%2fwww.googleapis.com%2fauth%2fdrive%20https%3a%2f%2fwww.googleapis.com%2fauth%2fdrive.photos.readonly%20https%3a%2f%2fwww.googleapis.com%2fauth%2fpeopleapi.readonly\n",
            "\n",
            "Enter your authorization code:\n",
            "··········\n",
            "Mounted at /content/drive\n"
          ],
          "name": "stdout"
        }
      ]
    },
    {
      "cell_type": "code",
      "metadata": {
        "id": "ETRmPbv0r5go",
        "colab_type": "code",
        "colab": {}
      },
      "source": [
        "# Direct to the correct directory\n",
        "import os\n",
        "os.chdir(\"drive/My Drive/SEPSIS\")"
      ],
      "execution_count": 0,
      "outputs": []
    },
    {
      "cell_type": "code",
      "metadata": {
        "id": "J7oSpU3er5jj",
        "colab_type": "code",
        "outputId": "ddf72049-4c5e-4b4b-c19e-415706cc9419",
        "colab": {
          "base_uri": "https://localhost:8080/",
          "height": 85
        }
      },
      "source": [
        "# Check the files\n",
        "!ls"
      ],
      "execution_count": 0,
      "outputs": [
        {
          "output_type": "stream",
          "text": [
            " 10\t\t     dataB.txt\t    labels.txt\t  trainingdataX.txt\n",
            "'#1_GRU_Model.h5'    data.txt\t    other\t  trainingdataY.txt\n",
            "'#1_LSTM_Model.h5'   labelsB1.txt   __pycache__   training_setB\n",
            " dataB1.txt\t     labelsB.txt    training\n"
          ],
          "name": "stdout"
        }
      ]
    },
    {
      "cell_type": "code",
      "metadata": {
        "id": "tHRBJgfDLViL",
        "colab_type": "code",
        "colab": {}
      },
      "source": [
        "# Import the necessary modules\n",
        "\n",
        "import tensorflow as tf\n",
        "import keras"
      ],
      "execution_count": 0,
      "outputs": []
    },
    {
      "cell_type": "code",
      "metadata": {
        "id": "ro5ENIiLuNZD",
        "colab_type": "code",
        "colab": {}
      },
      "source": [
        "# Load the dataset including the labels\n",
        "\n",
        "import pickle\n",
        "\n",
        "with open(\"X_train.txt\", \"rb\") as fp:   # Unpickling\n",
        "  X = pickle.load(fp)\n",
        "\n",
        "with open(\"y_train.txt\", \"rb\") as fp:   # Unpickling\n",
        "  y = pickle.load(fp)"
      ],
      "execution_count": 0,
      "outputs": []
    },
    {
      "cell_type": "code",
      "metadata": {
        "id": "BAKaF6XtuT7z",
        "colab_type": "code",
        "colab": {}
      },
      "source": [
        "# Split the X and y sets into train and test (validation) splits\n",
        "\n",
        "from sklearn.model_selection import train_test_split\n",
        "X_train, X_test, y_train, y_test = train_test_split(X, y, test_size=0.1111111, random_state=42)"
      ],
      "execution_count": 0,
      "outputs": []
    },
    {
      "cell_type": "code",
      "metadata": {
        "id": "TXA_Ts7_uXwq",
        "colab_type": "code",
        "outputId": "a67b6b29-2d82-4308-ed46-307535cabf5f",
        "colab": {
          "base_uri": "https://localhost:8080/",
          "height": 85
        }
      },
      "source": [
        "# Check sizes for train and test\n",
        "\n",
        "print(len(X_train))\n",
        "print(len(y_train))\n",
        "\n",
        "print(len(X_test))\n",
        "print(len(y_test))"
      ],
      "execution_count": 0,
      "outputs": [
        {
          "output_type": "stream",
          "text": [
            "8849\n",
            "8849\n",
            "1107\n",
            "1107\n"
          ],
          "name": "stdout"
        }
      ]
    },
    {
      "cell_type": "code",
      "metadata": {
        "id": "yxlNQxHYGxJJ",
        "colab_type": "code",
        "colab": {}
      },
      "source": [
        "# Import packages\n",
        "# Adapt the original Cross Entropy Loss function by adding weights to \"no sepsis\" label\n",
        "\n",
        "import numpy as np \n",
        "import math\n",
        "\n",
        "def keras_custom_loss_function(y_true, y_pred):\n",
        "  custom_loss = -y_true*tf.math.log(y_pred) - (1-y_true)*tf.math.log(1-y_pred) * 0.7\n",
        "  return custom_loss"
      ],
      "execution_count": 0,
      "outputs": []
    },
    {
      "cell_type": "code",
      "metadata": {
        "id": "byPMHoi77jzl",
        "colab_type": "code",
        "colab": {}
      },
      "source": [
        "# Create the architecture of the model including all the parameters\n",
        "# Set the optimizer, loss function and metric\n",
        "\n",
        "def get_compiled_model():\n",
        "  model = tf.keras.Sequential([\n",
        "    tf.keras.layers.Masking(mask_value=0.0, input_shape=(336,40)),\n",
        "    tf.keras.layers.BatchNormalization(),\n",
        "    tf.keras.layers.GRU(400, dropout=0.2, recurrent_dropout=0.5, return_sequences=True),\n",
        "    tf.keras.layers.BatchNormalization(),\n",
        "    tf.keras.layers.GRU(400, dropout=0.2, recurrent_dropout=0.5, return_sequences=True),   \n",
        "    tf.keras.layers.BatchNormalization(),     \n",
        "    tf.keras.layers.Dense(250, activation='relu'),\n",
        "    tf.keras.layers.BatchNormalization(),      \n",
        "    tf.keras.layers.Dense(150, activation='relu'),\n",
        "    tf.keras.layers.BatchNormalization(),      \n",
        "    tf.keras.layers.Dense(100, activation='relu'),\n",
        "    tf.keras.layers.BatchNormalization(),      \n",
        "    tf.keras.layers.Dense(50, activation='relu'),\n",
        "    tf.keras.layers.BatchNormalization(),      \n",
        "    tf.keras.layers.Dense(2, activation='softmax'),   \n",
        "  ])\n",
        "\n",
        "  opt = tf.keras.optimizers.RMSprop(learning_rate=0.0001)\n",
        "\n",
        "\n",
        "  model.compile(optimizer=opt,\n",
        "                loss=keras_custom_loss_function,\n",
        "                metrics=[tf.keras.metrics.AUC()])\n",
        "  return model"
      ],
      "execution_count": 0,
      "outputs": []
    },
    {
      "cell_type": "code",
      "metadata": {
        "id": "yWB1oJ4E7wCn",
        "colab_type": "code",
        "outputId": "b71f36aa-ad4e-4f4f-c465-ac995fba8f24",
        "colab": {
          "base_uri": "https://localhost:8080/",
          "height": 697
        }
      },
      "source": [
        "# Compile the model and get a summary of it\n",
        "\n",
        "model = get_compiled_model()\n",
        "model.summary()"
      ],
      "execution_count": 0,
      "outputs": [
        {
          "output_type": "stream",
          "text": [
            "WARNING:tensorflow:Layer gru_8 will not use cuDNN kernel since it doesn't meet the cuDNN kernel criteria. It will use generic GPU kernel as fallback when running on GPU\n",
            "WARNING:tensorflow:Layer gru_9 will not use cuDNN kernel since it doesn't meet the cuDNN kernel criteria. It will use generic GPU kernel as fallback when running on GPU\n",
            "Model: \"sequential_4\"\n",
            "_________________________________________________________________\n",
            "Layer (type)                 Output Shape              Param #   \n",
            "=================================================================\n",
            "masking_4 (Masking)          (None, 336, 40)           0         \n",
            "_________________________________________________________________\n",
            "batch_normalization_28 (Batc (None, 336, 40)           160       \n",
            "_________________________________________________________________\n",
            "gru_8 (GRU)                  (None, 336, 400)          530400    \n",
            "_________________________________________________________________\n",
            "batch_normalization_29 (Batc (None, 336, 400)          1600      \n",
            "_________________________________________________________________\n",
            "gru_9 (GRU)                  (None, 336, 400)          962400    \n",
            "_________________________________________________________________\n",
            "batch_normalization_30 (Batc (None, 336, 400)          1600      \n",
            "_________________________________________________________________\n",
            "dense_20 (Dense)             (None, 336, 250)          100250    \n",
            "_________________________________________________________________\n",
            "batch_normalization_31 (Batc (None, 336, 250)          1000      \n",
            "_________________________________________________________________\n",
            "dense_21 (Dense)             (None, 336, 150)          37650     \n",
            "_________________________________________________________________\n",
            "batch_normalization_32 (Batc (None, 336, 150)          600       \n",
            "_________________________________________________________________\n",
            "dense_22 (Dense)             (None, 336, 100)          15100     \n",
            "_________________________________________________________________\n",
            "batch_normalization_33 (Batc (None, 336, 100)          400       \n",
            "_________________________________________________________________\n",
            "dense_23 (Dense)             (None, 336, 50)           5050      \n",
            "_________________________________________________________________\n",
            "batch_normalization_34 (Batc (None, 336, 50)           200       \n",
            "_________________________________________________________________\n",
            "dense_24 (Dense)             (None, 336, 2)            102       \n",
            "=================================================================\n",
            "Total params: 1,656,512\n",
            "Trainable params: 1,653,732\n",
            "Non-trainable params: 2,780\n",
            "_________________________________________________________________\n"
          ],
          "name": "stdout"
        }
      ]
    },
    {
      "cell_type": "code",
      "metadata": {
        "id": "qwBygJSpBaMf",
        "colab_type": "code",
        "outputId": "18eeb05b-57ab-4d48-a0c8-cc6682057f34",
        "colab": {
          "base_uri": "https://localhost:8080/",
          "height": 357
        }
      },
      "source": [
        "# Train the model for 10 epochs with a batchsize of 64\n",
        "\n",
        "original = model.fit(X_train,y_train, validation_data=(X_test, y_test), batch_size=64, epochs=10)"
      ],
      "execution_count": 0,
      "outputs": [
        {
          "output_type": "stream",
          "text": [
            "Epoch 1/10\n",
            "139/139 [==============================] - 599s 4s/step - loss: 0.0596 - auc_4: 0.5423 - val_loss: 0.0645 - val_auc_4: 0.3143\n",
            "Epoch 2/10\n",
            "139/139 [==============================] - 604s 4s/step - loss: 0.0449 - auc_4: 0.6163 - val_loss: 0.0496 - val_auc_4: 0.5022\n",
            "Epoch 3/10\n",
            "139/139 [==============================] - 605s 4s/step - loss: 0.0385 - auc_4: 0.6788 - val_loss: 0.0390 - val_auc_4: 0.6460\n",
            "Epoch 4/10\n",
            "139/139 [==============================] - 603s 4s/step - loss: 0.0341 - auc_4: 0.7580 - val_loss: 0.0298 - val_auc_4: 0.8205\n",
            "Epoch 5/10\n",
            "139/139 [==============================] - 613s 4s/step - loss: 0.0298 - auc_4: 0.8361 - val_loss: 0.0255 - val_auc_4: 0.9044\n",
            "Epoch 6/10\n",
            "139/139 [==============================] - 616s 4s/step - loss: 0.0264 - auc_4: 0.9077 - val_loss: 0.0224 - val_auc_4: 0.9583\n",
            "Epoch 7/10\n",
            "139/139 [==============================] - 623s 4s/step - loss: 0.0232 - auc_4: 0.9570 - val_loss: 0.0200 - val_auc_4: 0.9868\n",
            "Epoch 8/10\n",
            "139/139 [==============================] - 630s 5s/step - loss: 0.0207 - auc_4: 0.9840 - val_loss: 0.0180 - val_auc_4: 0.9941\n",
            "Epoch 9/10\n",
            "139/139 [==============================] - 627s 5s/step - loss: 0.0186 - auc_4: 0.9929 - val_loss: 0.0176 - val_auc_4: 0.9944\n",
            "Epoch 10/10\n",
            "139/139 [==============================] - 631s 5s/step - loss: 0.0171 - auc_4: 0.9950 - val_loss: 0.0168 - val_auc_4: 0.9950\n"
          ],
          "name": "stdout"
        }
      ]
    },
    {
      "cell_type": "code",
      "metadata": {
        "id": "EP1I_akFu4Gr",
        "colab_type": "code",
        "outputId": "d9f8b35c-1aab-4c74-e651-ab166635c570",
        "colab": {
          "base_uri": "https://localhost:8080/",
          "height": 34
        }
      },
      "source": [
        "# Print necessary dictionary keys\n",
        "\n",
        "history_dict = original.history\n",
        "history_dict.keys()"
      ],
      "execution_count": 0,
      "outputs": [
        {
          "output_type": "execute_result",
          "data": {
            "text/plain": [
              "dict_keys(['loss', 'auc_4', 'val_loss', 'val_auc_4'])"
            ]
          },
          "metadata": {
            "tags": []
          },
          "execution_count": 44
        }
      ]
    },
    {
      "cell_type": "code",
      "metadata": {
        "id": "rE4GK8WHBe5w",
        "colab_type": "code",
        "colab": {}
      },
      "source": [
        "# Make a function for plotting the AUC score and loss for train and validation set\n",
        "\n",
        "import matplotlib.pyplot as plt\n",
        "%matplotlib inline\n",
        "def plot_history(data_list, label_list, title, ylabel):\n",
        "    ''' Plots a list of vectors.\n",
        "\n",
        "    Parameters:\n",
        "        data_list  : list of vectors containing the values to plot\n",
        "        label_list : list of labels describing the data, one per vector\n",
        "        title      : title of the plot\n",
        "        ylabel     : label for the y axis\n",
        "    '''\n",
        "    epochs = range(1, len(data_list[0]) + 1)\n",
        "\n",
        "    for data, label in zip(data_list, label_list):\n",
        "        plt.plot(epochs, data, label=label)\n",
        "    plt.title(title)\n",
        "    plt.xlabel('Epochs')\n",
        "    plt.ylabel(ylabel)\n",
        "    plt.legend()\n",
        "\n",
        "    plt.show()"
      ],
      "execution_count": 0,
      "outputs": []
    },
    {
      "cell_type": "code",
      "metadata": {
        "id": "PhZ1jADUBgIf",
        "colab_type": "code",
        "outputId": "a7429ab4-9577-4654-e1d2-d2d77c4e9047",
        "colab": {
          "base_uri": "https://localhost:8080/",
          "height": 573
        }
      },
      "source": [
        "# Plot AUC score and loss for train and validation set\n",
        "auc_4 = history_dict['auc_4']\n",
        "val_auc_4 = history_dict['val_auc_4']\n",
        "loss = history_dict['loss']\n",
        "val_loss = history_dict['val_loss']\n",
        "\n",
        "plot_history(data_list=[loss, val_loss],\n",
        "             label_list=['Training loss', 'Validation loss'],\n",
        "             title='Training and validation loss',\n",
        "             ylabel='Loss')\n",
        "plot_history(data_list=[auc_4, val_auc_4],\n",
        "             label_list=['Training auc.', 'Validation auc.'],\n",
        "             title='Training and validation auc',\n",
        "             ylabel='auc')\n"
      ],
      "execution_count": 0,
      "outputs": [
        {
          "output_type": "display_data",
          "data": {
            "image/png": "[encoded data removed]",
            "text/plain": [
              "<Figure size 432x288 with 1 Axes>"
            ]
          },
          "metadata": {
            "tags": [],
            "needs_background": "light"
          }
        },
        {
          "output_type": "display_data",
          "data": {
            "image/png": "[encoded data removed]",
            "text/plain": [
              "<Figure size 432x288 with 1 Axes>"
            ]
          },
          "metadata": {
            "tags": [],
            "needs_background": "light"
          }
        }
      ]
    },
    {
      "cell_type": "code",
      "metadata": {
        "id": "4s_hRIaumY08",
        "colab_type": "code",
        "outputId": "649d36e4-ab5d-41ae-b791-d5d6c6c7d9ae",
        "colab": {
          "base_uri": "https://localhost:8080/",
          "height": 34
        }
      },
      "source": [
        "# Save the weights of the model\n",
        "\n",
        "from numpy import loadtxt\n",
        "\n",
        "# serialize weights to HDF5\n",
        "model.save(\"#1_GRU_Model.h5\")\n",
        "print(\"Saved model to disk\")"
      ],
      "execution_count": 0,
      "outputs": [
        {
          "output_type": "stream",
          "text": [
            "Saved model to disk\n"
          ],
          "name": "stdout"
        }
      ]
    }
  ]
}