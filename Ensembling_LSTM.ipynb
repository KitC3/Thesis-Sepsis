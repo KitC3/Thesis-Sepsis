{
  "nbformat": 4,
  "nbformat_minor": 0,
  "metadata": {
    "colab": {
      "name": "Ensembling LSTM.ipynb",
      "provenance": [],
      "collapsed_sections": []
    },
    "kernelspec": {
      "name": "python3",
      "display_name": "Python 3"
    },
    "accelerator": "GPU"
  },
  "cells": [
    {
      "cell_type": "code",
      "metadata": {
        "id": "BXOaXPV6wSWv",
        "colab_type": "code",
        "outputId": "7bb032f9-316c-4f97-c4ac-7932a4a455b8",
        "colab": {
          "base_uri": "https://localhost:8080/",
          "height": 128
        }
      },
      "source": [
        "# Connect to Google Drive\n",
        "from google.colab import drive\n",
        "drive.mount('/content/drive')"
      ],
      "execution_count": 0,
      "outputs": [
        {
          "output_type": "stream",
          "text": [
            "Go to this URL in a browser: https://accounts.google.com/o/oauth2/auth?client_id=947318989803-6bn6qk8qdgf4n4g3pfee6491hc0brc4i.apps.googleusercontent.com&redirect_uri=urn%3aietf%3awg%3aoauth%3a2.0%3aoob&response_type=code&scope=email%20https%3a%2f%2fwww.googleapis.com%2fauth%2fdocs.test%20https%3a%2f%2fwww.googleapis.com%2fauth%2fdrive%20https%3a%2f%2fwww.googleapis.com%2fauth%2fdrive.photos.readonly%20https%3a%2f%2fwww.googleapis.com%2fauth%2fpeopleapi.readonly\n",
            "\n",
            "Enter your authorization code:\n",
            "··········\n",
            "Mounted at /content/drive\n"
          ],
          "name": "stdout"
        }
      ]
    },
    {
      "cell_type": "code",
      "metadata": {
        "id": "fMjwX1TAwVvQ",
        "colab_type": "code",
        "colab": {}
      },
      "source": [
        "# Direct to the correct directory\n",
        "import os\n",
        "os.chdir(\"drive/My Drive/SEPSIS\")"
      ],
      "execution_count": 0,
      "outputs": []
    },
    {
      "cell_type": "code",
      "metadata": {
        "id": "nQgiiyM4wVxx",
        "colab_type": "code",
        "outputId": "56b83740-95c8-4c83-812a-af41dc2b7976",
        "colab": {
          "base_uri": "https://localhost:8080/",
          "height": 217
        }
      },
      "source": [
        "# Check the files\n",
        "!ls"
      ],
      "execution_count": 0,
      "outputs": [
        {
          "output_type": "stream",
          "text": [
            " 10\t\t    '#6_GRU_Model.h5'\t      padded_X.txt\n",
            "'#1_GRU_Model.h5'   '#6_LSTM_Model.h5'\t      padded_Y.txt\n",
            "'#1_LSTM_Model.h5'   dataB1.txt\t\t      __pycache__\n",
            "'#2_GRU_Model.h5'    dataB.txt\t\t      training\n",
            "'#2_LSTM_Model.h5'   data.txt\t\t      trainingdataX.txt\n",
            "'#3_GRU_Model.h5'    labelsB1.txt\t      trainingdataY.txt\n",
            "'#3_LSTM_Model.h5'   labelsB.txt\t      training_setB\n",
            "'#4_GRU_Model.h5'    labels.txt\t\t      X_test.txt\n",
            "'#4_LSTM_Model.h5'   makegraphs.psv\t      X_train.txt\n",
            "'#5_GRU_Model.h5'    maketableandgraphs.psv   y_test.txt\n",
            "'#5_LSTM_Model.h5'   other\t\t      y_train.txt\n"
          ],
          "name": "stdout"
        }
      ]
    },
    {
      "cell_type": "code",
      "metadata": {
        "id": "J0jqp8ZVwV0O",
        "colab_type": "code",
        "outputId": "276350f4-4f88-4db8-ae5f-10bdf6adfc53",
        "colab": {
          "base_uri": "https://localhost:8080/",
          "height": 255
        }
      },
      "source": [
        "# Load all the weights of the models\n",
        "from tensorflow.keras.models import load_model\n",
        "\n",
        "model1 = load_model('#1_LSTM_Model.h5', compile=False)\n",
        "model2 = load_model('#2_LSTM_Model.h5', compile=False)\n",
        "model3 = load_model('#3_LSTM_Model.h5', compile=False)\n",
        "model4 = load_model('#4_LSTM_Model.h5', compile=False)\n",
        "model5 = load_model('#5_LSTM_Model.h5', compile=False)\n",
        "model6 = load_model('#6_LSTM_Model.h5', compile=False)\n"
      ],
      "execution_count": 0,
      "outputs": [
        {
          "output_type": "stream",
          "text": [
            "WARNING:tensorflow:Layer lstm will not use cuDNN kernel since it doesn't meet the cuDNN kernel criteria. It will use generic GPU kernel as fallback when running on GPU\n",
            "WARNING:tensorflow:Layer lstm_1 will not use cuDNN kernel since it doesn't meet the cuDNN kernel criteria. It will use generic GPU kernel as fallback when running on GPU\n",
            "WARNING:tensorflow:Layer lstm will not use cuDNN kernel since it doesn't meet the cuDNN kernel criteria. It will use generic GPU kernel as fallback when running on GPU\n",
            "WARNING:tensorflow:Layer lstm_1 will not use cuDNN kernel since it doesn't meet the cuDNN kernel criteria. It will use generic GPU kernel as fallback when running on GPU\n",
            "WARNING:tensorflow:Layer lstm will not use cuDNN kernel since it doesn't meet the cuDNN kernel criteria. It will use generic GPU kernel as fallback when running on GPU\n",
            "WARNING:tensorflow:Layer lstm_1 will not use cuDNN kernel since it doesn't meet the cuDNN kernel criteria. It will use generic GPU kernel as fallback when running on GPU\n",
            "WARNING:tensorflow:Layer lstm_2 will not use cuDNN kernel since it doesn't meet the cuDNN kernel criteria. It will use generic GPU kernel as fallback when running on GPU\n",
            "WARNING:tensorflow:Layer lstm_3 will not use cuDNN kernel since it doesn't meet the cuDNN kernel criteria. It will use generic GPU kernel as fallback when running on GPU\n",
            "WARNING:tensorflow:Layer lstm_2 will not use cuDNN kernel since it doesn't meet the cuDNN kernel criteria. It will use generic GPU kernel as fallback when running on GPU\n",
            "WARNING:tensorflow:Layer lstm_3 will not use cuDNN kernel since it doesn't meet the cuDNN kernel criteria. It will use generic GPU kernel as fallback when running on GPU\n",
            "WARNING:tensorflow:Layer lstm will not use cuDNN kernel since it doesn't meet the cuDNN kernel criteria. It will use generic GPU kernel as fallback when running on GPU\n",
            "WARNING:tensorflow:Layer lstm_1 will not use cuDNN kernel since it doesn't meet the cuDNN kernel criteria. It will use generic GPU kernel as fallback when running on GPU\n"
          ],
          "name": "stdout"
        }
      ]
    },
    {
      "cell_type": "code",
      "metadata": {
        "id": "dZaQRz0hFhSv",
        "colab_type": "code",
        "outputId": "6b1bd07b-c03f-4f7d-8bae-ac65e1c9fc98",
        "colab": {
          "base_uri": "https://localhost:8080/",
          "height": 54
        }
      },
      "source": [
        "# Load the test set\n",
        "import pickle\n",
        "\n",
        "with open(\"X_test.txt\", \"rb\") as fp:   # Unpickling\n",
        "  X_test = pickle.load(fp)\n",
        "\n",
        "with open(\"y_test.txt\", \"rb\") as fp:   # Unpickling\n",
        "  y_test = pickle.load(fp)\n",
        "\n",
        "print(len(X_test))\n",
        "print(len(y_test))"
      ],
      "execution_count": 0,
      "outputs": [
        {
          "output_type": "stream",
          "text": [
            "1107\n",
            "1107\n"
          ],
          "name": "stdout"
        }
      ]
    },
    {
      "cell_type": "code",
      "metadata": {
        "id": "e-0GwOgAyfMZ",
        "colab_type": "code",
        "colab": {}
      },
      "source": [
        "# Save the prediction probabilities for each model\n",
        "import numpy as np\n",
        "from sklearn.metrics import confusion_matrix\n",
        "from sklearn.metrics import classification_report\n",
        "\n",
        "pred1=model1.predict(X_test)\n",
        "pred2=model2.predict(X_test)\n",
        "pred3=model3.predict(X_test)\n",
        "pred4=model4.predict(X_test)\n",
        "pred5=model5.predict(X_test)\n",
        "pred6=model6.predict(X_test)\n",
        "\n"
      ],
      "execution_count": 0,
      "outputs": []
    },
    {
      "cell_type": "code",
      "metadata": {
        "id": "YPpp6pBbwV4o",
        "colab_type": "code",
        "colab": {}
      },
      "source": [
        "# Transform the labels so that they have same shape\n",
        "y = y_test\n",
        "y1 = y.transpose(2,0,1).reshape(-1,2)\n",
        "y = np.argmax(y1, axis=1) "
      ],
      "execution_count": 0,
      "outputs": []
    },
    {
      "cell_type": "code",
      "metadata": {
        "id": "CLA_QIOmHSpV",
        "colab_type": "code",
        "outputId": "9592f5c0-7009-48e4-fd50-ae89c38c0159",
        "colab": {
          "base_uri": "https://localhost:8080/",
          "height": 217
        }
      },
      "source": [
        "# Metrics for ensemble of LSTM models\n",
        "# Generate the confusion matrix and classification report by first averaging the prediction probabilities\n",
        "# Then convert the matrix in the right shape just as the labels\n",
        "finalpred=(pred1 + pred2 + pred3 + pred4 + pred5 + pred6) / 6\n",
        "\n",
        "finalpred1 = finalpred.transpose(2,0,1).reshape(-1,2)\n",
        "finalpred=np.argmax(finalpred1, axis=1) \n",
        "\n",
        "print(confusion_matrix(y, finalpred))\n",
        "print(classification_report(y, finalpred, digits=5))"
      ],
      "execution_count": 0,
      "outputs": [
        {
          "output_type": "stream",
          "text": [
            "[[350348  21405]\n",
            " [   147     52]]\n",
            "              precision    recall  f1-score   support\n",
            "\n",
            "           0    0.99958   0.94242   0.97016    371753\n",
            "           1    0.00242   0.26131   0.00480       199\n",
            "\n",
            "    accuracy                        0.94206    371952\n",
            "   macro avg    0.50100   0.60186   0.48748    371952\n",
            "weighted avg    0.99905   0.94206   0.96964    371952\n",
            "\n"
          ],
          "name": "stdout"
        }
      ]
    },
    {
      "cell_type": "code",
      "metadata": {
        "id": "0Ki19SIaGZJ2",
        "colab_type": "code",
        "outputId": "0caf9f2e-d0f3-42a1-d186-e3ddcc40c58b",
        "colab": {
          "base_uri": "https://localhost:8080/",
          "height": 217
        }
      },
      "source": [
        "# Metrics for model #1\n",
        "# Generate the confusion matrix and classification report by converting the matrix in the right shape just as the labels\n",
        "pred1 = pred1.transpose(2,0,1).reshape(-1,2)\n",
        "pred1=np.argmax(pred1, axis=1) \n",
        "\n",
        "print(confusion_matrix(y, pred1))\n",
        "print(classification_report(y, pred1,digits=5))"
      ],
      "execution_count": 0,
      "outputs": [
        {
          "output_type": "stream",
          "text": [
            "[[350350  21403]\n",
            " [   145     54]]\n",
            "              precision    recall  f1-score   support\n",
            "\n",
            "           0    0.99959   0.94243   0.97017    371753\n",
            "           1    0.00252   0.27136   0.00499       199\n",
            "\n",
            "    accuracy                        0.94207    371952\n",
            "   macro avg    0.50105   0.60689   0.48758    371952\n",
            "weighted avg    0.99905   0.94207   0.96965    371952\n",
            "\n"
          ],
          "name": "stdout"
        }
      ]
    },
    {
      "cell_type": "code",
      "metadata": {
        "id": "4KiFgG55GZNG",
        "colab_type": "code",
        "outputId": "824b280b-2b1f-4445-b0a0-6cbcfca28962",
        "colab": {
          "base_uri": "https://localhost:8080/",
          "height": 217
        }
      },
      "source": [
        "# Metrics for model #2\n",
        "# Generate the confusion matrix and classification report by converting the matrix in the right shape just as the labels\n",
        "pred2 = pred2.transpose(2,0,1).reshape(-1,2)\n",
        "pred2=np.argmax(pred2, axis=1) \n",
        "\n",
        "print(confusion_matrix(y, pred2))\n",
        "print(classification_report(y, pred2,digits=5))"
      ],
      "execution_count": 0,
      "outputs": [
        {
          "output_type": "stream",
          "text": [
            "[[350348  21405]\n",
            " [   147     52]]\n",
            "              precision    recall  f1-score   support\n",
            "\n",
            "           0    0.99958   0.94242   0.97016    371753\n",
            "           1    0.00242   0.26131   0.00480       199\n",
            "\n",
            "    accuracy                        0.94206    371952\n",
            "   macro avg    0.50100   0.60186   0.48748    371952\n",
            "weighted avg    0.99905   0.94206   0.96964    371952\n",
            "\n"
          ],
          "name": "stdout"
        }
      ]
    },
    {
      "cell_type": "code",
      "metadata": {
        "id": "gjlYF1h7GZPr",
        "colab_type": "code",
        "outputId": "b708a2f4-2ae9-4b03-bcfb-4c1aaf5c0a51",
        "colab": {
          "base_uri": "https://localhost:8080/",
          "height": 217
        }
      },
      "source": [
        "# Metrics for model #3\n",
        "# Generate the confusion matrix and classification report by converting the matrix in the right shape just as the labels\n",
        "pred3 = pred3.transpose(2,0,1).reshape(-1,2)\n",
        "pred3=np.argmax(pred3, axis=1) \n",
        "\n",
        "print(confusion_matrix(y, pred3))\n",
        "print(classification_report(y,pred3,digits=5))"
      ],
      "execution_count": 0,
      "outputs": [
        {
          "output_type": "stream",
          "text": [
            "[[350350  21403]\n",
            " [   145     54]]\n",
            "              precision    recall  f1-score   support\n",
            "\n",
            "           0    0.99959   0.94243   0.97017    371753\n",
            "           1    0.00252   0.27136   0.00499       199\n",
            "\n",
            "    accuracy                        0.94207    371952\n",
            "   macro avg    0.50105   0.60689   0.48758    371952\n",
            "weighted avg    0.99905   0.94207   0.96965    371952\n",
            "\n"
          ],
          "name": "stdout"
        }
      ]
    },
    {
      "cell_type": "code",
      "metadata": {
        "id": "kRkn7Ql6GZSE",
        "colab_type": "code",
        "outputId": "c6acd907-f6bb-4417-d369-dc2a61881720",
        "colab": {
          "base_uri": "https://localhost:8080/",
          "height": 217
        }
      },
      "source": [
        "# Metrics for model #4\n",
        "# Generate the confusion matrix and classification report by converting the matrix in the right shape just as the labels\n",
        "\n",
        "pred4 = pred4.transpose(2,0,1).reshape(-1,2)\n",
        "pred4=np.argmax(pred4, axis=1) \n",
        "\n",
        "print(confusion_matrix(y, pred4))\n",
        "print(classification_report(y, pred4,digits=5))"
      ],
      "execution_count": 0,
      "outputs": [
        {
          "output_type": "stream",
          "text": [
            "[[350350  21403]\n",
            " [   145     54]]\n",
            "              precision    recall  f1-score   support\n",
            "\n",
            "           0    0.99959   0.94243   0.97017    371753\n",
            "           1    0.00252   0.27136   0.00499       199\n",
            "\n",
            "    accuracy                        0.94207    371952\n",
            "   macro avg    0.50105   0.60689   0.48758    371952\n",
            "weighted avg    0.99905   0.94207   0.96965    371952\n",
            "\n"
          ],
          "name": "stdout"
        }
      ]
    },
    {
      "cell_type": "code",
      "metadata": {
        "id": "IKHxwdS1GZUr",
        "colab_type": "code",
        "outputId": "7b5f987c-29b0-4946-cd34-f52ca0311977",
        "colab": {
          "base_uri": "https://localhost:8080/",
          "height": 217
        }
      },
      "source": [
        "# Metrics for model #5\n",
        "# Generate the confusion matrix and classification report by converting the matrix in the right shape just as the labels\n",
        "pred5 = pred5.transpose(2,0,1).reshape(-1,2)\n",
        "pred5=np.argmax(pred5, axis=1) \n",
        "\n",
        "print(confusion_matrix(y, pred5))\n",
        "print(classification_report(y, pred5,digits=5))"
      ],
      "execution_count": 0,
      "outputs": [
        {
          "output_type": "stream",
          "text": [
            "[[350344  21409]\n",
            " [   151     48]]\n",
            "              precision    recall  f1-score   support\n",
            "\n",
            "           0    0.99957   0.94241   0.97015    371753\n",
            "           1    0.00224   0.24121   0.00443       199\n",
            "\n",
            "    accuracy                        0.94204    371952\n",
            "   macro avg    0.50090   0.59181   0.48729    371952\n",
            "weighted avg    0.99904   0.94204   0.96963    371952\n",
            "\n"
          ],
          "name": "stdout"
        }
      ]
    },
    {
      "cell_type": "code",
      "metadata": {
        "id": "CwIP3-gyGZXA",
        "colab_type": "code",
        "outputId": "2a8553c3-0135-4968-8e27-e2af2bea0390",
        "colab": {
          "base_uri": "https://localhost:8080/",
          "height": 217
        }
      },
      "source": [
        "# Metrics for model #6\n",
        "# Generate the confusion matrix and classification report by converting the matrix in the right shape just as the labels\n",
        "pred6 = pred6.transpose(2,0,1).reshape(-1,2)\n",
        "pred6=np.argmax(pred6, axis=1) \n",
        "\n",
        "print(confusion_matrix(y, pred6))\n",
        "print(classification_report(y, pred6,digits=5))"
      ],
      "execution_count": 0,
      "outputs": [
        {
          "output_type": "stream",
          "text": [
            "[[350340  21413]\n",
            " [   155     44]]\n",
            "              precision    recall  f1-score   support\n",
            "\n",
            "           0    0.99956   0.94240   0.97014    371753\n",
            "           1    0.00205   0.22111   0.00406       199\n",
            "\n",
            "    accuracy                        0.94201    371952\n",
            "   macro avg    0.50080   0.58175   0.48710    371952\n",
            "weighted avg    0.99902   0.94201   0.96962    371952\n",
            "\n"
          ],
          "name": "stdout"
        }
      ]
    }
  ]
}