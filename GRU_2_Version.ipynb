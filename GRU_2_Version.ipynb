{
  "nbformat": 4,
  "nbformat_minor": 0,
  "metadata": {
    "colab": {
      "name": "GRU#2_Version.ipynb",
      "provenance": [],
      "collapsed_sections": []
    },
    "kernelspec": {
      "name": "python3",
      "display_name": "Python 3"
    },
    "accelerator": "GPU"
  },
  "cells": [
    {
      "cell_type": "code",
      "metadata": {
        "id": "jIUmkRa4rz7v",
        "colab_type": "code",
        "outputId": "dcab4ec2-41f1-4e01-97d2-e77e4ebb8d67",
        "colab": {
          "base_uri": "https://localhost:8080/",
          "height": 122
        }
      },
      "source": [
        "# Connect to Google Drive\n",
        "from google.colab import drive\n",
        "drive.mount('/content/drive')"
      ],
      "execution_count": 0,
      "outputs": [
        {
          "output_type": "stream",
          "text": [
            "Go to this URL in a browser: https://accounts.google.com/o/oauth2/auth?client_id=947318989803-6bn6qk8qdgf4n4g3pfee6491hc0brc4i.apps.googleusercontent.com&redirect_uri=urn%3aietf%3awg%3aoauth%3a2.0%3aoob&response_type=code&scope=email%20https%3a%2f%2fwww.googleapis.com%2fauth%2fdocs.test%20https%3a%2f%2fwww.googleapis.com%2fauth%2fdrive%20https%3a%2f%2fwww.googleapis.com%2fauth%2fdrive.photos.readonly%20https%3a%2f%2fwww.googleapis.com%2fauth%2fpeopleapi.readonly\n",
            "\n",
            "Enter your authorization code:\n",
            "··········\n",
            "Mounted at /content/drive\n"
          ],
          "name": "stdout"
        }
      ]
    },
    {
      "cell_type": "code",
      "metadata": {
        "id": "ETRmPbv0r5go",
        "colab_type": "code",
        "colab": {}
      },
      "source": [
        "# Direct to the correct directory\n",
        "import os\n",
        "os.chdir(\"drive/My Drive/SEPSIS\")"
      ],
      "execution_count": 0,
      "outputs": []
    },
    {
      "cell_type": "code",
      "metadata": {
        "id": "J7oSpU3er5jj",
        "colab_type": "code",
        "outputId": "49d8d614-f818-474a-a4e7-9449c389e2cb",
        "colab": {
          "base_uri": "https://localhost:8080/",
          "height": 119
        }
      },
      "source": [
        "# Check the files\n",
        "!ls"
      ],
      "execution_count": 0,
      "outputs": [
        {
          "output_type": "stream",
          "text": [
            " 10\t\t     labelsB1.txt   __pycache__         X_train.txt\n",
            "'#1_GRU_Model.h5'    labelsB.txt    training\t        y_test.txt\n",
            "'#1_LSTM_Model.h5'   labels.txt     trainingdataX.txt   y_train.txt\n",
            " dataB1.txt\t     other\t    trainingdataY.txt\n",
            " dataB.txt\t     padded_X.txt   training_setB\n",
            " data.txt\t     padded_Y.txt   X_test.txt\n"
          ],
          "name": "stdout"
        }
      ]
    },
    {
      "cell_type": "code",
      "metadata": {
        "id": "tHRBJgfDLViL",
        "colab_type": "code",
        "outputId": "b45630c2-0800-47d6-f8ce-26c6e290214c",
        "colab": {
          "base_uri": "https://localhost:8080/",
          "height": 34
        }
      },
      "source": [
        "# Import the necessary modules\n",
        "import tensorflow as tf\n",
        "import keras"
      ],
      "execution_count": 0,
      "outputs": [
        {
          "output_type": "stream",
          "text": [
            "Using TensorFlow backend.\n"
          ],
          "name": "stderr"
        }
      ]
    },
    {
      "cell_type": "code",
      "metadata": {
        "id": "ro5ENIiLuNZD",
        "colab_type": "code",
        "colab": {}
      },
      "source": [
        "# Load the dataset including the labels\n",
        "import pickle\n",
        "\n",
        "with open(\"X_train.txt\", \"rb\") as fp:   # Unpickling\n",
        "  X = pickle.load(fp)\n",
        "\n",
        "with open(\"y_train.txt\", \"rb\") as fp:   # Unpickling\n",
        "  y = pickle.load(fp)"
      ],
      "execution_count": 0,
      "outputs": []
    },
    {
      "cell_type": "code",
      "metadata": {
        "id": "BAKaF6XtuT7z",
        "colab_type": "code",
        "colab": {}
      },
      "source": [
        "# Split the x and Y sets into train and test splits\n",
        "\n",
        "from sklearn.model_selection import train_test_split\n",
        "X_train, X_test, y_train, y_test = train_test_split(X, y, test_size=0.1111111)"
      ],
      "execution_count": 0,
      "outputs": []
    },
    {
      "cell_type": "code",
      "metadata": {
        "id": "TXA_Ts7_uXwq",
        "colab_type": "code",
        "outputId": "9c1d664d-e773-4b1b-9db0-a2ab48111086",
        "colab": {
          "base_uri": "https://localhost:8080/",
          "height": 85
        }
      },
      "source": [
        "# Check sizes for train and test\n",
        "\n",
        "print(len(X_train))\n",
        "print(len(y_train))\n",
        "\n",
        "print(len(X_test))\n",
        "print(len(y_test))"
      ],
      "execution_count": 0,
      "outputs": [
        {
          "output_type": "stream",
          "text": [
            "8849\n",
            "8849\n",
            "1107\n",
            "1107\n"
          ],
          "name": "stdout"
        }
      ]
    },
    {
      "cell_type": "code",
      "metadata": {
        "id": "yxlNQxHYGxJJ",
        "colab_type": "code",
        "colab": {}
      },
      "source": [
        "# Import packages\n",
        "# Adapt the original Cross Entropy Loss function by adding weights to \"no sepsis\" label\n",
        "import numpy as np \n",
        "import math\n",
        "\n",
        "def keras_custom_loss_function(y_true, y_pred):\n",
        "  custom_loss = -y_true*tf.math.log(y_pred) - (1-y_true)*tf.math.log(1-y_pred) * 0.7\n",
        "  return custom_loss"
      ],
      "execution_count": 0,
      "outputs": []
    },
    {
      "cell_type": "code",
      "metadata": {
        "id": "byPMHoi77jzl",
        "colab_type": "code",
        "colab": {}
      },
      "source": [
        "# Create the architecture of the model including all the parameters\n",
        "# Set the optimizer, loss function and metric\n",
        "def get_compiled_model():\n",
        "  model = tf.keras.Sequential([\n",
        "    tf.keras.layers.Masking(mask_value=0.0, input_shape=(336,40)),\n",
        "    tf.keras.layers.BatchNormalization(),\n",
        "    tf.keras.layers.GRU(400, dropout=0.2, recurrent_dropout=0.5, return_sequences=True),\n",
        "    tf.keras.layers.BatchNormalization(),\n",
        "    tf.keras.layers.GRU(400, dropout=0.2, recurrent_dropout=0.5, return_sequences=True),   \n",
        "    tf.keras.layers.BatchNormalization(),     \n",
        "    tf.keras.layers.Dense(250, activation='relu'),\n",
        "    tf.keras.layers.BatchNormalization(),      \n",
        "    tf.keras.layers.Dense(150, activation='relu'),\n",
        "    tf.keras.layers.BatchNormalization(),      \n",
        "    tf.keras.layers.Dense(100, activation='relu'),\n",
        "    tf.keras.layers.BatchNormalization(),      \n",
        "    tf.keras.layers.Dense(50, activation='relu'),\n",
        "    tf.keras.layers.BatchNormalization(),      \n",
        "    tf.keras.layers.Dense(2, activation='softmax'),   \n",
        "  ])\n",
        "\n",
        "  opt = tf.keras.optimizers.RMSprop(learning_rate=0.0001)\n",
        "\n",
        "\n",
        "  model.compile(optimizer=opt,\n",
        "                loss=keras_custom_loss_function,\n",
        "                metrics=[tf.keras.metrics.AUC()])\n",
        "  return model"
      ],
      "execution_count": 0,
      "outputs": []
    },
    {
      "cell_type": "code",
      "metadata": {
        "id": "yWB1oJ4E7wCn",
        "colab_type": "code",
        "outputId": "c4c00928-4b4d-4d18-9a7e-cb5e18597613",
        "colab": {
          "base_uri": "https://localhost:8080/",
          "height": 697
        }
      },
      "source": [
        "# Compile the model and get a summary of it\n",
        "model = get_compiled_model()\n",
        "model.summary()"
      ],
      "execution_count": 0,
      "outputs": [
        {
          "output_type": "stream",
          "text": [
            "WARNING:tensorflow:Layer gru will not use cuDNN kernel since it doesn't meet the cuDNN kernel criteria. It will use generic GPU kernel as fallback when running on GPU\n",
            "WARNING:tensorflow:Layer gru_1 will not use cuDNN kernel since it doesn't meet the cuDNN kernel criteria. It will use generic GPU kernel as fallback when running on GPU\n",
            "Model: \"sequential\"\n",
            "_________________________________________________________________\n",
            "Layer (type)                 Output Shape              Param #   \n",
            "=================================================================\n",
            "masking (Masking)            (None, 336, 40)           0         \n",
            "_________________________________________________________________\n",
            "batch_normalization (BatchNo (None, 336, 40)           160       \n",
            "_________________________________________________________________\n",
            "gru (GRU)                    (None, 336, 400)          530400    \n",
            "_________________________________________________________________\n",
            "batch_normalization_1 (Batch (None, 336, 400)          1600      \n",
            "_________________________________________________________________\n",
            "gru_1 (GRU)                  (None, 336, 400)          962400    \n",
            "_________________________________________________________________\n",
            "batch_normalization_2 (Batch (None, 336, 400)          1600      \n",
            "_________________________________________________________________\n",
            "dense (Dense)                (None, 336, 250)          100250    \n",
            "_________________________________________________________________\n",
            "batch_normalization_3 (Batch (None, 336, 250)          1000      \n",
            "_________________________________________________________________\n",
            "dense_1 (Dense)              (None, 336, 150)          37650     \n",
            "_________________________________________________________________\n",
            "batch_normalization_4 (Batch (None, 336, 150)          600       \n",
            "_________________________________________________________________\n",
            "dense_2 (Dense)              (None, 336, 100)          15100     \n",
            "_________________________________________________________________\n",
            "batch_normalization_5 (Batch (None, 336, 100)          400       \n",
            "_________________________________________________________________\n",
            "dense_3 (Dense)              (None, 336, 50)           5050      \n",
            "_________________________________________________________________\n",
            "batch_normalization_6 (Batch (None, 336, 50)           200       \n",
            "_________________________________________________________________\n",
            "dense_4 (Dense)              (None, 336, 2)            102       \n",
            "=================================================================\n",
            "Total params: 1,656,512\n",
            "Trainable params: 1,653,732\n",
            "Non-trainable params: 2,780\n",
            "_________________________________________________________________\n"
          ],
          "name": "stdout"
        }
      ]
    },
    {
      "cell_type": "code",
      "metadata": {
        "id": "qwBygJSpBaMf",
        "colab_type": "code",
        "outputId": "809f5b0d-7356-4d39-e649-e5d215e19d8f",
        "colab": {
          "base_uri": "https://localhost:8080/",
          "height": 357
        }
      },
      "source": [
        "# Train the model for 10 epochs with a batchsize of 64\n",
        "original = model.fit(X_train,y_train, validation_data=(X_test, y_test), batch_size=64, epochs=10)"
      ],
      "execution_count": 0,
      "outputs": [
        {
          "output_type": "stream",
          "text": [
            "Epoch 1/10\n",
            "139/139 [==============================] - 656s 5s/step - loss: 0.0590 - auc: 0.5442 - val_loss: 0.0640 - val_auc: 0.4268\n",
            "Epoch 2/10\n",
            "139/139 [==============================] - 613s 4s/step - loss: 0.0432 - auc: 0.6294 - val_loss: 0.0512 - val_auc: 0.5643\n",
            "Epoch 3/10\n",
            "139/139 [==============================] - 619s 4s/step - loss: 0.0372 - auc: 0.7017 - val_loss: 0.0399 - val_auc: 0.6932\n",
            "Epoch 4/10\n",
            "139/139 [==============================] - 607s 4s/step - loss: 0.0324 - auc: 0.7829 - val_loss: 0.0327 - val_auc: 0.7947\n",
            "Epoch 5/10\n",
            "139/139 [==============================] - 624s 4s/step - loss: 0.0285 - auc: 0.8580 - val_loss: 0.0266 - val_auc: 0.9179\n",
            "Epoch 6/10\n",
            "139/139 [==============================] - 618s 4s/step - loss: 0.0248 - auc: 0.9217 - val_loss: 0.0237 - val_auc: 0.9762\n",
            "Epoch 7/10\n",
            "139/139 [==============================] - 626s 5s/step - loss: 0.0219 - auc: 0.9698 - val_loss: 0.0214 - val_auc: 0.9855\n",
            "Epoch 8/10\n",
            "139/139 [==============================] - 626s 5s/step - loss: 0.0194 - auc: 0.9888 - val_loss: 0.0189 - val_auc: 0.9944\n",
            "Epoch 9/10\n",
            "139/139 [==============================] - 624s 4s/step - loss: 0.0177 - auc: 0.9942 - val_loss: 0.0180 - val_auc: 0.9947\n",
            "Epoch 10/10\n",
            "139/139 [==============================] - 624s 4s/step - loss: 0.0163 - auc: 0.9954 - val_loss: 0.0175 - val_auc: 0.9954\n"
          ],
          "name": "stdout"
        }
      ]
    },
    {
      "cell_type": "code",
      "metadata": {
        "id": "EP1I_akFu4Gr",
        "colab_type": "code",
        "outputId": "9f08c69d-271e-4880-d7e3-d734999e2378",
        "colab": {
          "base_uri": "https://localhost:8080/",
          "height": 34
        }
      },
      "source": [
        "# Print necessary dictionary keys\n",
        "history_dict = original.history\n",
        "history_dict.keys()"
      ],
      "execution_count": 0,
      "outputs": [
        {
          "output_type": "execute_result",
          "data": {
            "text/plain": [
              "dict_keys(['loss', 'auc', 'val_loss', 'val_auc'])"
            ]
          },
          "metadata": {
            "tags": []
          },
          "execution_count": 12
        }
      ]
    },
    {
      "cell_type": "code",
      "metadata": {
        "id": "rE4GK8WHBe5w",
        "colab_type": "code",
        "colab": {}
      },
      "source": [
        "# Make a function for plotting the AUC score and loss for train and validation set\n",
        "import matplotlib.pyplot as plt\n",
        "%matplotlib inline\n",
        "def plot_history(data_list, label_list, title, ylabel):\n",
        "    ''' Plots a list of vectors.\n",
        "\n",
        "    Parameters:\n",
        "        data_list  : list of vectors containing the values to plot\n",
        "        label_list : list of labels describing the data, one per vector\n",
        "        title      : title of the plot\n",
        "        ylabel     : label for the y axis\n",
        "    '''\n",
        "    epochs = range(1, len(data_list[0]) + 1)\n",
        "\n",
        "    for data, label in zip(data_list, label_list):\n",
        "        plt.plot(epochs, data, label=label)\n",
        "    plt.title(title)\n",
        "    plt.xlabel('Epochs')\n",
        "    plt.ylabel(ylabel)\n",
        "    plt.legend()\n",
        "\n",
        "    plt.show()"
      ],
      "execution_count": 0,
      "outputs": []
    },
    {
      "cell_type": "code",
      "metadata": {
        "id": "PhZ1jADUBgIf",
        "colab_type": "code",
        "outputId": "e47f99b6-6d39-4592-cad0-6f71e3658906",
        "colab": {
          "base_uri": "https://localhost:8080/",
          "height": 573
        }
      },
      "source": [
        "# Plot AUC score and loss for train and validation set\n",
        "auc = history_dict['auc']\n",
        "val_auc = history_dict['val_auc']\n",
        "loss = history_dict['loss']\n",
        "val_loss = history_dict['val_loss']\n",
        "\n",
        "plot_history(data_list=[loss, val_loss],\n",
        "             label_list=['Training loss', 'Validation loss'],\n",
        "             title='Training and validation loss',\n",
        "             ylabel='Loss')\n",
        "plot_history(data_list=[auc, val_auc],\n",
        "             label_list=['Training AUC.', 'Validation AUC.'],\n",
        "             title='Training and validation AUC',\n",
        "             ylabel='AUC')"
      ],
      "execution_count": 0,
      "outputs": [
        {
          "output_type": "display_data",
          "data": {
            "image/png": "[encoded data removed]",
            "text/plain": [
              "<Figure size 432x288 with 1 Axes>"
            ]
          },
          "metadata": {
            "tags": [],
            "needs_background": "light"
          }
        },
        {
          "output_type": "display_data",
          "data": {
            "image/png": "[encoded data removed]",
            "text/plain": [
              "<Figure size 432x288 with 1 Axes>"
            ]
          },
          "metadata": {
            "tags": [],
            "needs_background": "light"
          }
        }
      ]
    },
    {
      "cell_type": "code",
      "metadata": {
        "id": "4s_hRIaumY08",
        "colab_type": "code",
        "outputId": "e759be16-94f7-4d3d-8991-c1b96c815a9a",
        "colab": {
          "base_uri": "https://localhost:8080/",
          "height": 34
        }
      },
      "source": [
        "# Save the weights of the model\n",
        "from numpy import loadtxt\n",
        "\n",
        "# serialize weights to HDF5\n",
        "model.save(\"#2_GRU_Model.h5\")\n",
        "print(\"Saved model to disk\")"
      ],
      "execution_count": 0,
      "outputs": [
        {
          "output_type": "stream",
          "text": [
            "Saved model to disk\n"
          ],
          "name": "stdout"
        }
      ]
    }
  ]
}