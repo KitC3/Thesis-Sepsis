{
  "nbformat": 4,
  "nbformat_minor": 0,
  "metadata": {
    "colab": {
      "name": "LSTM#4_Version.ipynb",
      "provenance": [],
      "collapsed_sections": []
    },
    "kernelspec": {
      "name": "python3",
      "display_name": "Python 3"
    },
    "accelerator": "GPU"
  },
  "cells": [
    {
      "cell_type": "code",
      "metadata": {
        "id": "jIUmkRa4rz7v",
        "colab_type": "code",
        "outputId": "9f21dfe1-cd2b-483f-dea0-336d8737cd46",
        "colab": {
          "base_uri": "https://localhost:8080/",
          "height": 122
        }
      },
      "source": [
        "# Connect to Google Drive\n",
        "from google.colab import drive\n",
        "drive.mount('/content/drive')"
      ],
      "execution_count": 0,
      "outputs": [
        {
          "output_type": "stream",
          "text": [
            "Go to this URL in a browser: https://accounts.google.com/o/oauth2/auth?client_id=947318989803-6bn6qk8qdgf4n4g3pfee6491hc0brc4i.apps.googleusercontent.com&redirect_uri=urn%3aietf%3awg%3aoauth%3a2.0%3aoob&response_type=code&scope=email%20https%3a%2f%2fwww.googleapis.com%2fauth%2fdocs.test%20https%3a%2f%2fwww.googleapis.com%2fauth%2fdrive%20https%3a%2f%2fwww.googleapis.com%2fauth%2fdrive.photos.readonly%20https%3a%2f%2fwww.googleapis.com%2fauth%2fpeopleapi.readonly\n",
            "\n",
            "Enter your authorization code:\n",
            "··········\n",
            "Mounted at /content/drive\n"
          ],
          "name": "stdout"
        }
      ]
    },
    {
      "cell_type": "code",
      "metadata": {
        "id": "ETRmPbv0r5go",
        "colab_type": "code",
        "colab": {}
      },
      "source": [
        "# Direct to the correct directory\n",
        "import os\n",
        "os.chdir(\"drive/My Drive/SEPSIS\")"
      ],
      "execution_count": 0,
      "outputs": []
    },
    {
      "cell_type": "code",
      "metadata": {
        "id": "J7oSpU3er5jj",
        "colab_type": "code",
        "outputId": "9d71490f-2061-4493-a4f1-54da0a262718",
        "colab": {
          "base_uri": "https://localhost:8080/",
          "height": 119
        }
      },
      "source": [
        "# Check the files\n",
        "!ls"
      ],
      "execution_count": 0,
      "outputs": [
        {
          "output_type": "stream",
          "text": [
            " 10\t\t     data.txt\t    padded_Y.txt        X_test.txt\n",
            "'#1_GRU_Model.h5'    labelsB1.txt   __pycache__         X_train.txt\n",
            "'#1_LSTM_Model.h5'   labelsB.txt    training\t        y_test.txt\n",
            "'#3_LSTM_Model.h5'   labels.txt     trainingdataX.txt   y_train.txt\n",
            " dataB1.txt\t     other\t    trainingdataY.txt\n",
            " dataB.txt\t     padded_X.txt   training_setB\n"
          ],
          "name": "stdout"
        }
      ]
    },
    {
      "cell_type": "code",
      "metadata": {
        "id": "tHRBJgfDLViL",
        "colab_type": "code",
        "outputId": "f8636dfd-f7ca-4daa-a5f8-92ebd3d7ba96",
        "colab": {
          "base_uri": "https://localhost:8080/",
          "height": 34
        }
      },
      "source": [
        "# Import the necessary modules\n",
        "import tensorflow as tf\n",
        "import keras"
      ],
      "execution_count": 0,
      "outputs": [
        {
          "output_type": "stream",
          "text": [
            "Using TensorFlow backend.\n"
          ],
          "name": "stderr"
        }
      ]
    },
    {
      "cell_type": "code",
      "metadata": {
        "id": "qbN93CENv_pD",
        "colab_type": "code",
        "colab": {}
      },
      "source": [
        "# Load the dataset including the labels\n",
        "import pickle\n",
        "\n",
        "with open(\"X_train.txt\", \"rb\") as fp:   # Unpickling\n",
        "  X = pickle.load(fp)\n",
        "\n",
        "with open(\"y_train.txt\", \"rb\") as fp:   # Unpickling\n",
        "  y = pickle.load(fp)"
      ],
      "execution_count": 0,
      "outputs": []
    },
    {
      "cell_type": "code",
      "metadata": {
        "id": "0y4EmOVzUyY0",
        "colab_type": "code",
        "colab": {}
      },
      "source": [
        "# Split the x and Y sets into train and test splits\n",
        "\n",
        "from sklearn.model_selection import train_test_split\n",
        "X_train, X_test, y_train, y_test = train_test_split(X, y, test_size=0.1111111)"
      ],
      "execution_count": 0,
      "outputs": []
    },
    {
      "cell_type": "code",
      "metadata": {
        "id": "UR5kJlKBU93A",
        "colab_type": "code",
        "outputId": "f19992e3-3664-4705-cfb7-79516287150c",
        "colab": {
          "base_uri": "https://localhost:8080/",
          "height": 85
        }
      },
      "source": [
        "# Check sizes for train and test\n",
        "\n",
        "print(len(X_train))\n",
        "print(len(y_train))\n",
        "\n",
        "print(len(X_test))\n",
        "print(len(y_test))"
      ],
      "execution_count": 0,
      "outputs": [
        {
          "output_type": "stream",
          "text": [
            "8849\n",
            "8849\n",
            "1107\n",
            "1107\n"
          ],
          "name": "stdout"
        }
      ]
    },
    {
      "cell_type": "code",
      "metadata": {
        "id": "kMyewzqrctJL",
        "colab_type": "code",
        "colab": {}
      },
      "source": [
        "# Import packages\n",
        "# Adapt the original Cross Entropy Loss function by adding weights to \"no sepsis\" label\n",
        "import numpy as np \n",
        "import math\n",
        "\n",
        "def keras_custom_loss_function(y_true, y_pred):\n",
        "  custom_loss = -y_true*tf.math.log(y_pred) - (1-y_true)*tf.math.log(1-y_pred) * 0.7\n",
        "  return custom_loss"
      ],
      "execution_count": 0,
      "outputs": []
    },
    {
      "cell_type": "code",
      "metadata": {
        "id": "byPMHoi77jzl",
        "colab_type": "code",
        "colab": {}
      },
      "source": [
        "# Create the architecture of the model including all the parameters\n",
        "# Set the optimizer, loss function and metric\n",
        "def get_compiled_model():\n",
        "  model = tf.keras.Sequential([\n",
        "    tf.keras.layers.Masking(mask_value=0., input_shape=(336,40)),\n",
        "    tf.keras.layers.BatchNormalization(),\n",
        "    tf.keras.layers.LSTM(400, dropout=0.2, recurrent_dropout=0.5, return_sequences=True),\n",
        "    tf.keras.layers.BatchNormalization(),\n",
        "    tf.keras.layers.LSTM(400, dropout=0.2, recurrent_dropout=0.5, return_sequences=True),   \n",
        "    tf.keras.layers.BatchNormalization(),     \n",
        "    tf.keras.layers.Dense(250, activation='relu'),\n",
        "    tf.keras.layers.BatchNormalization(),      \n",
        "    tf.keras.layers.Dense(150, activation='relu'),\n",
        "    tf.keras.layers.BatchNormalization(),      \n",
        "    tf.keras.layers.Dense(100, activation='relu'),\n",
        "    tf.keras.layers.BatchNormalization(),      \n",
        "    tf.keras.layers.Dense(50, activation='relu'),\n",
        "    tf.keras.layers.BatchNormalization(),      \n",
        "    tf.keras.layers.Dense(2,  activation='softmax'),   \n",
        "  ])\n",
        "\n",
        "  opt = tf.keras.optimizers.RMSprop(learning_rate=0.0001)\n",
        "\n",
        "\n",
        "  model.compile(optimizer=opt,\n",
        "                loss=keras_custom_loss_function,\n",
        "                metrics=[tf.keras.metrics.AUC()])\n",
        "  return model"
      ],
      "execution_count": 0,
      "outputs": []
    },
    {
      "cell_type": "code",
      "metadata": {
        "id": "yWB1oJ4E7wCn",
        "colab_type": "code",
        "outputId": "8aeb2f9b-7bb9-421e-8df7-1834ea27e150",
        "colab": {
          "base_uri": "https://localhost:8080/",
          "height": 717
        }
      },
      "source": [
        "# Compile the model and get a summary of it\n",
        "model = get_compiled_model()\n",
        "model.summary()"
      ],
      "execution_count": 0,
      "outputs": [
        {
          "output_type": "stream",
          "text": [
            "WARNING:tensorflow:Layer lstm_2 will not use cuDNN kernel since it doesn't meet the cuDNN kernel criteria. It will use generic GPU kernel as fallback when running on GPU\n",
            "WARNING:tensorflow:Layer lstm_3 will not use cuDNN kernel since it doesn't meet the cuDNN kernel criteria. It will use generic GPU kernel as fallback when running on GPU\n",
            "Model: \"sequential_1\"\n",
            "_________________________________________________________________\n",
            "Layer (type)                 Output Shape              Param #   \n",
            "=================================================================\n",
            "masking_1 (Masking)          (None, 336, 40)           0         \n",
            "_________________________________________________________________\n",
            "batch_normalization_7 (Batch (None, 336, 40)           160       \n",
            "_________________________________________________________________\n",
            "lstm_2 (LSTM)                (None, 336, 400)          705600    \n",
            "_________________________________________________________________\n",
            "batch_normalization_8 (Batch (None, 336, 400)          1600      \n",
            "_________________________________________________________________\n",
            "lstm_3 (LSTM)                (None, 336, 400)          1281600   \n",
            "_________________________________________________________________\n",
            "batch_normalization_9 (Batch (None, 336, 400)          1600      \n",
            "_________________________________________________________________\n",
            "dense_5 (Dense)              (None, 336, 250)          100250    \n",
            "_________________________________________________________________\n",
            "batch_normalization_10 (Batc (None, 336, 250)          1000      \n",
            "_________________________________________________________________\n",
            "dense_6 (Dense)              (None, 336, 150)          37650     \n",
            "_________________________________________________________________\n",
            "batch_normalization_11 (Batc (None, 336, 150)          600       \n",
            "_________________________________________________________________\n",
            "dense_7 (Dense)              (None, 336, 100)          15100     \n",
            "_________________________________________________________________\n",
            "batch_normalization_12 (Batc (None, 336, 100)          400       \n",
            "_________________________________________________________________\n",
            "dense_8 (Dense)              (None, 336, 50)           5050      \n",
            "_________________________________________________________________\n",
            "batch_normalization_13 (Batc (None, 336, 50)           200       \n",
            "_________________________________________________________________\n",
            "dense_9 (Dense)              (None, 336, 2)            102       \n",
            "=================================================================\n",
            "Total params: 2,150,912\n",
            "Trainable params: 2,148,132\n",
            "Non-trainable params: 2,780\n",
            "_________________________________________________________________\n"
          ],
          "name": "stdout"
        }
      ]
    },
    {
      "cell_type": "code",
      "metadata": {
        "id": "qwBygJSpBaMf",
        "colab_type": "code",
        "outputId": "04bf4f3c-1778-4c4b-8c39-6073c819c5f1",
        "colab": {
          "base_uri": "https://localhost:8080/",
          "height": 357
        }
      },
      "source": [
        "# Train the model for 10 epochs with a batchsize of 64\n",
        "original = model.fit(X_train,y_train, validation_data=(X_test, y_test), batch_size=64, epochs=10)"
      ],
      "execution_count": 0,
      "outputs": [
        {
          "output_type": "stream",
          "text": [
            "Epoch 1/10\n",
            "139/139 [==============================] - 393s 3s/step - loss: 0.0559 - auc_1: 0.5481 - val_loss: 0.0672 - val_auc_1: 0.2584\n",
            "Epoch 2/10\n",
            "139/139 [==============================] - 380s 3s/step - loss: 0.0429 - auc_1: 0.6170 - val_loss: 0.0524 - val_auc_1: 0.4526\n",
            "Epoch 3/10\n",
            "139/139 [==============================] - 389s 3s/step - loss: 0.0368 - auc_1: 0.6783 - val_loss: 0.0344 - val_auc_1: 0.7174\n",
            "Epoch 4/10\n",
            "139/139 [==============================] - 380s 3s/step - loss: 0.0327 - auc_1: 0.7445 - val_loss: 0.0290 - val_auc_1: 0.8147\n",
            "Epoch 5/10\n",
            "139/139 [==============================] - 375s 3s/step - loss: 0.0288 - auc_1: 0.8122 - val_loss: 0.0231 - val_auc_1: 0.9289\n",
            "Epoch 6/10\n",
            "139/139 [==============================] - 383s 3s/step - loss: 0.0253 - auc_1: 0.8759 - val_loss: 0.0224 - val_auc_1: 0.9591\n",
            "Epoch 7/10\n",
            "139/139 [==============================] - 383s 3s/step - loss: 0.0225 - auc_1: 0.9348 - val_loss: 0.0182 - val_auc_1: 0.9926\n",
            "Epoch 8/10\n",
            "139/139 [==============================] - 393s 3s/step - loss: 0.0202 - auc_1: 0.9706 - val_loss: 0.0178 - val_auc_1: 0.9912\n",
            "Epoch 9/10\n",
            "139/139 [==============================] - 389s 3s/step - loss: 0.0182 - auc_1: 0.9869 - val_loss: 0.0158 - val_auc_1: 0.9956\n",
            "Epoch 10/10\n",
            "139/139 [==============================] - 382s 3s/step - loss: 0.0169 - auc_1: 0.9936 - val_loss: 0.0153 - val_auc_1: 0.9958\n"
          ],
          "name": "stdout"
        }
      ]
    },
    {
      "cell_type": "code",
      "metadata": {
        "id": "PSHIp1jovuuf",
        "colab_type": "code",
        "outputId": "17cec582-1291-49fd-8f0d-ba76e9d61689",
        "colab": {
          "base_uri": "https://localhost:8080/",
          "height": 34
        }
      },
      "source": [
        "# Print necessary dictionary keys\n",
        "history_dict = original.history\n",
        "history_dict.keys()"
      ],
      "execution_count": 0,
      "outputs": [
        {
          "output_type": "execute_result",
          "data": {
            "text/plain": [
              "dict_keys(['loss', 'auc_1', 'val_loss', 'val_auc_1'])"
            ]
          },
          "metadata": {
            "tags": []
          },
          "execution_count": 19
        }
      ]
    },
    {
      "cell_type": "code",
      "metadata": {
        "id": "zlPMtxWEH39g",
        "colab_type": "code",
        "colab": {}
      },
      "source": [
        "# Make a function for plotting the AUC score and loss for train and validation set\n",
        "import matplotlib.pyplot as plt\n",
        "%matplotlib inline\n",
        "def plot_history(data_list, label_list, title, ylabel):\n",
        "    ''' Plots a list of vectors.\n",
        "\n",
        "    Parameters:\n",
        "        data_list  : list of vectors containing the values to plot\n",
        "        label_list : list of labels describing the data, one per vector\n",
        "        title      : title of the plot\n",
        "        ylabel     : label for the y axis\n",
        "    '''\n",
        "    epochs = range(1, len(data_list[0]) + 1)\n",
        "\n",
        "    for data, label in zip(data_list, label_list):\n",
        "        plt.plot(epochs, data, label=label)\n",
        "    plt.title(title)\n",
        "    plt.xlabel('Epochs')\n",
        "    plt.ylabel(ylabel)\n",
        "    plt.legend()\n",
        "\n",
        "    plt.show()"
      ],
      "execution_count": 0,
      "outputs": []
    },
    {
      "cell_type": "code",
      "metadata": {
        "id": "SS78UW-xH54h",
        "colab_type": "code",
        "outputId": "f7f3d125-802f-4242-d9a0-609327b54d93",
        "colab": {
          "base_uri": "https://localhost:8080/",
          "height": 573
        }
      },
      "source": [
        "# Plot AUC score and loss for train and validation set\n",
        "auc = history_dict['auc_1']\n",
        "val_auc = history_dict['val_auc_1']\n",
        "loss = history_dict['loss']\n",
        "val_loss = history_dict['val_loss']\n",
        "\n",
        "plot_history(data_list=[loss, val_loss],\n",
        "             label_list=['Training loss', 'Validation loss'],\n",
        "             title='Training and validation loss',\n",
        "             ylabel='Loss')\n",
        "plot_history(data_list=[auc, val_auc],\n",
        "             label_list=['Training auc.', 'Validation AUC.'],\n",
        "             title='Training and validation AUC',\n",
        "             ylabel='AUC')\n"
      ],
      "execution_count": 0,
      "outputs": [
        {
          "output_type": "display_data",
          "data": {
            "image/png": "[encoded data removed]",
            "text/plain": [
              "<Figure size 432x288 with 1 Axes>"
            ]
          },
          "metadata": {
            "tags": [],
            "needs_background": "light"
          }
        },
        {
          "output_type": "display_data",
          "data": {
            "image/png": "[encoded data removed]",
            "text/plain": [
              "<Figure size 432x288 with 1 Axes>"
            ]
          },
          "metadata": {
            "tags": [],
            "needs_background": "light"
          }
        }
      ]
    },
    {
      "cell_type": "code",
      "metadata": {
        "id": "xnwZHS8IzEwg",
        "colab_type": "code",
        "outputId": "27702ad1-1c87-4cdf-f95c-a5b35903aed1",
        "colab": {
          "base_uri": "https://localhost:8080/",
          "height": 34
        }
      },
      "source": [
        "# Save the weights of the model\n",
        "from numpy import loadtxt\n",
        "\n",
        "# serialize weights to HDF5\n",
        "model.save(\"#4_LSTM_Model.h5\")\n",
        "print(\"Saved model to disk\")"
      ],
      "execution_count": 0,
      "outputs": [
        {
          "output_type": "stream",
          "text": [
            "Saved model to disk\n"
          ],
          "name": "stdout"
        }
      ]
    }
  ]
}